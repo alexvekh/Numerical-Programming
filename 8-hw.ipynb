{
  "nbformat": 4,
  "nbformat_minor": 0,
  "metadata": {
    "colab": {
      "provenance": []
    },
    "kernelspec": {
      "name": "python3",
      "display_name": "Python 3"
    },
    "language_info": {
      "name": "python"
    }
  },
  "cells": [
    {
      "cell_type": "markdown",
      "source": [
        "# Завдання"
      ],
      "metadata": {
        "id": "n4KQznzfZwi0"
      }
    },
    {
      "cell_type": "markdown",
      "source": [
        "Завдання (крок за кроком)\n",
        "\n",
        "Для цієї задачі необхідно буде завантажити набір даних Iris з бібліотеки Sklear.\n",
        "\n",
        "Для виконання завдання необхідно виконати такі кроки:\n",
        "1. Завантажити набір даних за допомогою load_iris() бібліотеки sklearn.\n",
        "\n",
        "2. Розподілити дані на навчальні та для тестування за допомогою train_test_split() бібліотеки sklearn.\n",
        "\n",
        "3. Використати вибірку ознак окремо для кожного класа.\n",
        "\n",
        "4. Реалізувати розрахунок матриць коваріації для набору ознак кожного класа.\n",
        "\n",
        "5. Реалізувати розрахунок обернених матриць коваріації.\n",
        "\n",
        "6. Обчислити апріорні імовірності кожного класа у тренувальних даних.\n",
        "\n",
        "7. Реалізувати функцію обчислення значень дискримінантної функції для одного рядка (вектора) тестових даних.\n",
        "\n",
        "8. Реалізувати функцію обчислення значень дискримінантної функції та імовірностей приналежності кожному класу для всієї матриці тестових даних.\n",
        "\n",
        "9. Виконати прогнозування на тестових даних за допомогою функії QuadraticDiscriminantAnalysis() бібліотеки sklearn та порівняти отримані результати.\n",
        "\n",
        "10. Зробити висновок про ступінь схожості результатів, отриманих власною функцією та бібліотекою sklearn.\n",
        "\n"
      ],
      "metadata": {
        "id": "aXRRqKaw7S99"
      }
    },
    {
      "cell_type": "markdown",
      "source": [
        "# Виконання"
      ],
      "metadata": {
        "id": "21InUFD_Ze0H"
      }
    },
    {
      "cell_type": "code",
      "execution_count": 369,
      "metadata": {
        "id": "250GJOnT67bL",
        "colab": {
          "base_uri": "https://localhost:8080/"
        },
        "outputId": "cdb10c09-c69c-47c3-fe77-90652ee5a023"
      },
      "outputs": [
        {
          "output_type": "stream",
          "name": "stdout",
          "text": [
            "Розмірність даних: (150, 4)\n",
            "Назви характеристик: ['sepal length (cm)', 'sepal width (cm)', 'petal length (cm)', 'petal width (cm)']\n",
            "Назви класів: ['setosa' 'versicolor' 'virginica']\n"
          ]
        }
      ],
      "source": [
        "# 1. Завантажте та ознайомтесь з даними: Завантажте набір даних Breast Cancer за допомогою функції load_breast_cancer() з бібліотеки sklearn. Перегляньте опис набору даних, щоб зрозуміти структуру та характеристики.\n",
        "import pandas as pd\n",
        "from sklearn.datasets import load_iris\n",
        "from sklearn.model_selection import train_test_split\n",
        "\n",
        "iris = load_iris()\n",
        "print(\"Розмірність даних:\", iris.data.shape)\n",
        "print(\"Назви характеристик:\", iris.feature_names)\n",
        "print(\"Назви класів:\", iris.target_names)"
      ]
    },
    {
      "cell_type": "code",
      "source": [
        "# Створення DataFrame (тільки для візуалізації. В розрахунках не використовується)\n",
        "df = pd.DataFrame(data=iris.data, columns=iris.feature_names)\n",
        "# # Додавання стовпця з цільовими значеннями\n",
        "df['target'] = iris.target\n",
        "# # Додавання стовпця з lebel\n",
        "df['target_label'] = df['target'].apply(lambda x: iris.target_names[x])\n",
        "print(df.shape)\n",
        "df.head()\n"
      ],
      "metadata": {
        "colab": {
          "base_uri": "https://localhost:8080/",
          "height": 225
        },
        "id": "hqBIwqUi9iIp",
        "outputId": "df90471b-3926-48b5-d1f2-324dec7ad20d"
      },
      "execution_count": 370,
      "outputs": [
        {
          "output_type": "stream",
          "name": "stdout",
          "text": [
            "(150, 6)\n"
          ]
        },
        {
          "output_type": "execute_result",
          "data": {
            "text/plain": [
              "   sepal length (cm)  sepal width (cm)  petal length (cm)  petal width (cm)  \\\n",
              "0                5.1               3.5                1.4               0.2   \n",
              "1                4.9               3.0                1.4               0.2   \n",
              "2                4.7               3.2                1.3               0.2   \n",
              "3                4.6               3.1                1.5               0.2   \n",
              "4                5.0               3.6                1.4               0.2   \n",
              "\n",
              "   target target_label  \n",
              "0       0       setosa  \n",
              "1       0       setosa  \n",
              "2       0       setosa  \n",
              "3       0       setosa  \n",
              "4       0       setosa  "
            ],
            "text/html": [
              "\n",
              "  <div id=\"df-38fed54d-c84f-419a-bbd2-63626e449c0a\" class=\"colab-df-container\">\n",
              "    <div>\n",
              "<style scoped>\n",
              "    .dataframe tbody tr th:only-of-type {\n",
              "        vertical-align: middle;\n",
              "    }\n",
              "\n",
              "    .dataframe tbody tr th {\n",
              "        vertical-align: top;\n",
              "    }\n",
              "\n",
              "    .dataframe thead th {\n",
              "        text-align: right;\n",
              "    }\n",
              "</style>\n",
              "<table border=\"1\" class=\"dataframe\">\n",
              "  <thead>\n",
              "    <tr style=\"text-align: right;\">\n",
              "      <th></th>\n",
              "      <th>sepal length (cm)</th>\n",
              "      <th>sepal width (cm)</th>\n",
              "      <th>petal length (cm)</th>\n",
              "      <th>petal width (cm)</th>\n",
              "      <th>target</th>\n",
              "      <th>target_label</th>\n",
              "    </tr>\n",
              "  </thead>\n",
              "  <tbody>\n",
              "    <tr>\n",
              "      <th>0</th>\n",
              "      <td>5.1</td>\n",
              "      <td>3.5</td>\n",
              "      <td>1.4</td>\n",
              "      <td>0.2</td>\n",
              "      <td>0</td>\n",
              "      <td>setosa</td>\n",
              "    </tr>\n",
              "    <tr>\n",
              "      <th>1</th>\n",
              "      <td>4.9</td>\n",
              "      <td>3.0</td>\n",
              "      <td>1.4</td>\n",
              "      <td>0.2</td>\n",
              "      <td>0</td>\n",
              "      <td>setosa</td>\n",
              "    </tr>\n",
              "    <tr>\n",
              "      <th>2</th>\n",
              "      <td>4.7</td>\n",
              "      <td>3.2</td>\n",
              "      <td>1.3</td>\n",
              "      <td>0.2</td>\n",
              "      <td>0</td>\n",
              "      <td>setosa</td>\n",
              "    </tr>\n",
              "    <tr>\n",
              "      <th>3</th>\n",
              "      <td>4.6</td>\n",
              "      <td>3.1</td>\n",
              "      <td>1.5</td>\n",
              "      <td>0.2</td>\n",
              "      <td>0</td>\n",
              "      <td>setosa</td>\n",
              "    </tr>\n",
              "    <tr>\n",
              "      <th>4</th>\n",
              "      <td>5.0</td>\n",
              "      <td>3.6</td>\n",
              "      <td>1.4</td>\n",
              "      <td>0.2</td>\n",
              "      <td>0</td>\n",
              "      <td>setosa</td>\n",
              "    </tr>\n",
              "  </tbody>\n",
              "</table>\n",
              "</div>\n",
              "    <div class=\"colab-df-buttons\">\n",
              "\n",
              "  <div class=\"colab-df-container\">\n",
              "    <button class=\"colab-df-convert\" onclick=\"convertToInteractive('df-38fed54d-c84f-419a-bbd2-63626e449c0a')\"\n",
              "            title=\"Convert this dataframe to an interactive table.\"\n",
              "            style=\"display:none;\">\n",
              "\n",
              "  <svg xmlns=\"http://www.w3.org/2000/svg\" height=\"24px\" viewBox=\"0 -960 960 960\">\n",
              "    <path d=\"M120-120v-720h720v720H120Zm60-500h600v-160H180v160Zm220 220h160v-160H400v160Zm0 220h160v-160H400v160ZM180-400h160v-160H180v160Zm440 0h160v-160H620v160ZM180-180h160v-160H180v160Zm440 0h160v-160H620v160Z\"/>\n",
              "  </svg>\n",
              "    </button>\n",
              "\n",
              "  <style>\n",
              "    .colab-df-container {\n",
              "      display:flex;\n",
              "      gap: 12px;\n",
              "    }\n",
              "\n",
              "    .colab-df-convert {\n",
              "      background-color: #E8F0FE;\n",
              "      border: none;\n",
              "      border-radius: 50%;\n",
              "      cursor: pointer;\n",
              "      display: none;\n",
              "      fill: #1967D2;\n",
              "      height: 32px;\n",
              "      padding: 0 0 0 0;\n",
              "      width: 32px;\n",
              "    }\n",
              "\n",
              "    .colab-df-convert:hover {\n",
              "      background-color: #E2EBFA;\n",
              "      box-shadow: 0px 1px 2px rgba(60, 64, 67, 0.3), 0px 1px 3px 1px rgba(60, 64, 67, 0.15);\n",
              "      fill: #174EA6;\n",
              "    }\n",
              "\n",
              "    .colab-df-buttons div {\n",
              "      margin-bottom: 4px;\n",
              "    }\n",
              "\n",
              "    [theme=dark] .colab-df-convert {\n",
              "      background-color: #3B4455;\n",
              "      fill: #D2E3FC;\n",
              "    }\n",
              "\n",
              "    [theme=dark] .colab-df-convert:hover {\n",
              "      background-color: #434B5C;\n",
              "      box-shadow: 0px 1px 3px 1px rgba(0, 0, 0, 0.15);\n",
              "      filter: drop-shadow(0px 1px 2px rgba(0, 0, 0, 0.3));\n",
              "      fill: #FFFFFF;\n",
              "    }\n",
              "  </style>\n",
              "\n",
              "    <script>\n",
              "      const buttonEl =\n",
              "        document.querySelector('#df-38fed54d-c84f-419a-bbd2-63626e449c0a button.colab-df-convert');\n",
              "      buttonEl.style.display =\n",
              "        google.colab.kernel.accessAllowed ? 'block' : 'none';\n",
              "\n",
              "      async function convertToInteractive(key) {\n",
              "        const element = document.querySelector('#df-38fed54d-c84f-419a-bbd2-63626e449c0a');\n",
              "        const dataTable =\n",
              "          await google.colab.kernel.invokeFunction('convertToInteractive',\n",
              "                                                    [key], {});\n",
              "        if (!dataTable) return;\n",
              "\n",
              "        const docLinkHtml = 'Like what you see? Visit the ' +\n",
              "          '<a target=\"_blank\" href=https://colab.research.google.com/notebooks/data_table.ipynb>data table notebook</a>'\n",
              "          + ' to learn more about interactive tables.';\n",
              "        element.innerHTML = '';\n",
              "        dataTable['output_type'] = 'display_data';\n",
              "        await google.colab.output.renderOutput(dataTable, element);\n",
              "        const docLink = document.createElement('div');\n",
              "        docLink.innerHTML = docLinkHtml;\n",
              "        element.appendChild(docLink);\n",
              "      }\n",
              "    </script>\n",
              "  </div>\n",
              "\n",
              "\n",
              "<div id=\"df-674b4e2c-8acf-4b8c-b459-2bee5e6a75b2\">\n",
              "  <button class=\"colab-df-quickchart\" onclick=\"quickchart('df-674b4e2c-8acf-4b8c-b459-2bee5e6a75b2')\"\n",
              "            title=\"Suggest charts\"\n",
              "            style=\"display:none;\">\n",
              "\n",
              "<svg xmlns=\"http://www.w3.org/2000/svg\" height=\"24px\"viewBox=\"0 0 24 24\"\n",
              "     width=\"24px\">\n",
              "    <g>\n",
              "        <path d=\"M19 3H5c-1.1 0-2 .9-2 2v14c0 1.1.9 2 2 2h14c1.1 0 2-.9 2-2V5c0-1.1-.9-2-2-2zM9 17H7v-7h2v7zm4 0h-2V7h2v10zm4 0h-2v-4h2v4z\"/>\n",
              "    </g>\n",
              "</svg>\n",
              "  </button>\n",
              "\n",
              "<style>\n",
              "  .colab-df-quickchart {\n",
              "      --bg-color: #E8F0FE;\n",
              "      --fill-color: #1967D2;\n",
              "      --hover-bg-color: #E2EBFA;\n",
              "      --hover-fill-color: #174EA6;\n",
              "      --disabled-fill-color: #AAA;\n",
              "      --disabled-bg-color: #DDD;\n",
              "  }\n",
              "\n",
              "  [theme=dark] .colab-df-quickchart {\n",
              "      --bg-color: #3B4455;\n",
              "      --fill-color: #D2E3FC;\n",
              "      --hover-bg-color: #434B5C;\n",
              "      --hover-fill-color: #FFFFFF;\n",
              "      --disabled-bg-color: #3B4455;\n",
              "      --disabled-fill-color: #666;\n",
              "  }\n",
              "\n",
              "  .colab-df-quickchart {\n",
              "    background-color: var(--bg-color);\n",
              "    border: none;\n",
              "    border-radius: 50%;\n",
              "    cursor: pointer;\n",
              "    display: none;\n",
              "    fill: var(--fill-color);\n",
              "    height: 32px;\n",
              "    padding: 0;\n",
              "    width: 32px;\n",
              "  }\n",
              "\n",
              "  .colab-df-quickchart:hover {\n",
              "    background-color: var(--hover-bg-color);\n",
              "    box-shadow: 0 1px 2px rgba(60, 64, 67, 0.3), 0 1px 3px 1px rgba(60, 64, 67, 0.15);\n",
              "    fill: var(--button-hover-fill-color);\n",
              "  }\n",
              "\n",
              "  .colab-df-quickchart-complete:disabled,\n",
              "  .colab-df-quickchart-complete:disabled:hover {\n",
              "    background-color: var(--disabled-bg-color);\n",
              "    fill: var(--disabled-fill-color);\n",
              "    box-shadow: none;\n",
              "  }\n",
              "\n",
              "  .colab-df-spinner {\n",
              "    border: 2px solid var(--fill-color);\n",
              "    border-color: transparent;\n",
              "    border-bottom-color: var(--fill-color);\n",
              "    animation:\n",
              "      spin 1s steps(1) infinite;\n",
              "  }\n",
              "\n",
              "  @keyframes spin {\n",
              "    0% {\n",
              "      border-color: transparent;\n",
              "      border-bottom-color: var(--fill-color);\n",
              "      border-left-color: var(--fill-color);\n",
              "    }\n",
              "    20% {\n",
              "      border-color: transparent;\n",
              "      border-left-color: var(--fill-color);\n",
              "      border-top-color: var(--fill-color);\n",
              "    }\n",
              "    30% {\n",
              "      border-color: transparent;\n",
              "      border-left-color: var(--fill-color);\n",
              "      border-top-color: var(--fill-color);\n",
              "      border-right-color: var(--fill-color);\n",
              "    }\n",
              "    40% {\n",
              "      border-color: transparent;\n",
              "      border-right-color: var(--fill-color);\n",
              "      border-top-color: var(--fill-color);\n",
              "    }\n",
              "    60% {\n",
              "      border-color: transparent;\n",
              "      border-right-color: var(--fill-color);\n",
              "    }\n",
              "    80% {\n",
              "      border-color: transparent;\n",
              "      border-right-color: var(--fill-color);\n",
              "      border-bottom-color: var(--fill-color);\n",
              "    }\n",
              "    90% {\n",
              "      border-color: transparent;\n",
              "      border-bottom-color: var(--fill-color);\n",
              "    }\n",
              "  }\n",
              "</style>\n",
              "\n",
              "  <script>\n",
              "    async function quickchart(key) {\n",
              "      const quickchartButtonEl =\n",
              "        document.querySelector('#' + key + ' button');\n",
              "      quickchartButtonEl.disabled = true;  // To prevent multiple clicks.\n",
              "      quickchartButtonEl.classList.add('colab-df-spinner');\n",
              "      try {\n",
              "        const charts = await google.colab.kernel.invokeFunction(\n",
              "            'suggestCharts', [key], {});\n",
              "      } catch (error) {\n",
              "        console.error('Error during call to suggestCharts:', error);\n",
              "      }\n",
              "      quickchartButtonEl.classList.remove('colab-df-spinner');\n",
              "      quickchartButtonEl.classList.add('colab-df-quickchart-complete');\n",
              "    }\n",
              "    (() => {\n",
              "      let quickchartButtonEl =\n",
              "        document.querySelector('#df-674b4e2c-8acf-4b8c-b459-2bee5e6a75b2 button');\n",
              "      quickchartButtonEl.style.display =\n",
              "        google.colab.kernel.accessAllowed ? 'block' : 'none';\n",
              "    })();\n",
              "  </script>\n",
              "</div>\n",
              "\n",
              "    </div>\n",
              "  </div>\n"
            ],
            "application/vnd.google.colaboratory.intrinsic+json": {
              "type": "dataframe",
              "variable_name": "df",
              "summary": "{\n  \"name\": \"df\",\n  \"rows\": 150,\n  \"fields\": [\n    {\n      \"column\": \"sepal length (cm)\",\n      \"properties\": {\n        \"dtype\": \"number\",\n        \"std\": 0.828066127977863,\n        \"min\": 4.3,\n        \"max\": 7.9,\n        \"num_unique_values\": 35,\n        \"samples\": [\n          6.2,\n          4.5,\n          5.6\n        ],\n        \"semantic_type\": \"\",\n        \"description\": \"\"\n      }\n    },\n    {\n      \"column\": \"sepal width (cm)\",\n      \"properties\": {\n        \"dtype\": \"number\",\n        \"std\": 0.4358662849366982,\n        \"min\": 2.0,\n        \"max\": 4.4,\n        \"num_unique_values\": 23,\n        \"samples\": [\n          2.3,\n          4.0,\n          3.5\n        ],\n        \"semantic_type\": \"\",\n        \"description\": \"\"\n      }\n    },\n    {\n      \"column\": \"petal length (cm)\",\n      \"properties\": {\n        \"dtype\": \"number\",\n        \"std\": 1.7652982332594662,\n        \"min\": 1.0,\n        \"max\": 6.9,\n        \"num_unique_values\": 43,\n        \"samples\": [\n          6.7,\n          3.8,\n          3.7\n        ],\n        \"semantic_type\": \"\",\n        \"description\": \"\"\n      }\n    },\n    {\n      \"column\": \"petal width (cm)\",\n      \"properties\": {\n        \"dtype\": \"number\",\n        \"std\": 0.7622376689603465,\n        \"min\": 0.1,\n        \"max\": 2.5,\n        \"num_unique_values\": 22,\n        \"samples\": [\n          0.2,\n          1.2,\n          1.3\n        ],\n        \"semantic_type\": \"\",\n        \"description\": \"\"\n      }\n    },\n    {\n      \"column\": \"target\",\n      \"properties\": {\n        \"dtype\": \"number\",\n        \"std\": 0,\n        \"min\": 0,\n        \"max\": 2,\n        \"num_unique_values\": 3,\n        \"samples\": [\n          0,\n          1,\n          2\n        ],\n        \"semantic_type\": \"\",\n        \"description\": \"\"\n      }\n    },\n    {\n      \"column\": \"target_label\",\n      \"properties\": {\n        \"dtype\": \"category\",\n        \"num_unique_values\": 3,\n        \"samples\": [\n          \"setosa\",\n          \"versicolor\",\n          \"virginica\"\n        ],\n        \"semantic_type\": \"\",\n        \"description\": \"\"\n      }\n    }\n  ]\n}"
            }
          },
          "metadata": {},
          "execution_count": 370
        }
      ]
    },
    {
      "cell_type": "code",
      "source": [
        "# 2. Розподілити дані на навчальні та для тестування за допомогою train_test_split() бібліотеки sklearn.\n",
        "\n",
        "X = iris.data\n",
        "y = iris.target\n",
        "\n",
        "X_train, X_test, y_train, y_test = train_test_split(X, y, test_size=0.2, random_state=42)\n",
        "\n",
        "print(f\"Розмір навчальних даних: {X_train.shape[0]}\")\n",
        "print(f\"Розмір тестових даних: {X_test.shape[0]}\")\n"
      ],
      "metadata": {
        "colab": {
          "base_uri": "https://localhost:8080/"
        },
        "id": "GRzDFu1uThsX",
        "outputId": "077bd3e6-b386-40e1-8d7f-62343a819472"
      },
      "execution_count": 371,
      "outputs": [
        {
          "output_type": "stream",
          "name": "stdout",
          "text": [
            "Розмір навчальних даних: 120\n",
            "Розмір тестових даних: 30\n"
          ]
        }
      ]
    },
    {
      "cell_type": "code",
      "source": [
        "# 3. Вибірка ознак окремо для кожного класу\n",
        "\n",
        "# Розділення даних на класи: 0, 1 та 2\n",
        "class_0 = X_train[y_train == 0]\n",
        "class_1 = X_train[y_train == 1]\n",
        "class_2 = X_train[y_train == 2]\n",
        "\n",
        "# Перевірка кількості зразків у кожному класі\n",
        "print(f\"Кількість зразків у класі 0: {class_0.shape[0]}\")\n",
        "print(f\"Кількість зразків у класі 1: {class_1.shape[0]}\")\n",
        "print(f\"Кількість зразків у класі 2: {class_2.shape[0]}\")"
      ],
      "metadata": {
        "colab": {
          "base_uri": "https://localhost:8080/"
        },
        "id": "25uInaTxUX-t",
        "outputId": "cb926731-4981-44cb-aa82-3fab1669280e"
      },
      "execution_count": 373,
      "outputs": [
        {
          "output_type": "stream",
          "name": "stdout",
          "text": [
            "Кількість зразків у класі 0: 40\n",
            "Кількість зразків у класі 1: 41\n",
            "Кількість зразків у класі 2: 39\n"
          ]
        }
      ]
    },
    {
      "cell_type": "code",
      "source": [
        "# Дисперсія класів\n",
        "\n",
        "# var_class_0 = np.var(class_0)*len(class_0)/(len(class_0)-1)  # для невеликої вибірки (менше 30)\n",
        "var_class_0 = np.var(class_0, ddof=1)\n",
        "print(var_class_0)\n",
        "var_class_0 = np.var(class_1, ddof=1)\n",
        "print(var_class_1)\n",
        "var_class_0 = np.var(class_2, ddof=1)\n",
        "print(var_class_2)"
      ],
      "metadata": {
        "colab": {
          "base_uri": "https://localhost:8080/"
        },
        "id": "PQrPW-S5ZMwt",
        "outputId": "ed876f66-cf2a-4eff-82ff-9f767210e080"
      },
      "execution_count": 374,
      "outputs": [
        {
          "output_type": "stream",
          "name": "stdout",
          "text": [
            "3.4240310534591196\n",
            "3.1563780487804878\n",
            "3.700038798920378\n"
          ]
        }
      ]
    },
    {
      "cell_type": "code",
      "source": [
        "# 4. розрахунок матриць коваріації для набору ознак кожного класа.\n",
        "\n",
        "import numpy as np\n",
        "\n",
        "# print('Матриця коваріації загальна\\n', np.cov(X_train, rowvar=False))\n",
        "\n",
        "# Обчислення матриці коваріації для кожного класу\n",
        "cov_matrix_class_0 = np.cov(class_0, rowvar=False)\n",
        "cov_matrix_class_1 = np.cov(class_1, rowvar=False)\n",
        "cov_matrix_class_2 = np.cov(class_2, rowvar=False)\n",
        "\n",
        "# Виведення результатів\n",
        "print(\"Матриця коваріації для класу 0:\\n\", cov_matrix_class_0)\n",
        "print(\"\\nМатриця коваріації для класу 1:\\n\", cov_matrix_class_1)\n",
        "print(\"\\nМатриця коваріації для класу 2:\\n\", cov_matrix_class_2)"
      ],
      "metadata": {
        "colab": {
          "base_uri": "https://localhost:8080/"
        },
        "id": "fZrmGLncWkCh",
        "outputId": "6f06566f-d255-499a-8902-ffac0671e810"
      },
      "execution_count": 375,
      "outputs": [
        {
          "output_type": "stream",
          "name": "stdout",
          "text": [
            "Матриця коваріації для класу 0:\n",
            " [[0.12707692 0.10797436 0.01897436 0.0094359 ]\n",
            " [0.10797436 0.15640385 0.01371795 0.00808974]\n",
            " [0.01897436 0.01371795 0.03384615 0.00666667]\n",
            " [0.0094359  0.00808974 0.00666667 0.01125641]]\n",
            "\n",
            "Матриця коваріації для класу 1:\n",
            " [[0.29410976 0.10108537 0.19592073 0.06056098]\n",
            " [0.10108537 0.10262195 0.0962439  0.04715854]\n",
            " [0.19592073 0.0962439  0.2314878  0.08131707]\n",
            " [0.06056098 0.04715854 0.08131707 0.0422561 ]]\n",
            "\n",
            "Матриця коваріації для класу 2:\n",
            " [[0.42754386 0.10114035 0.31429825 0.04947368]\n",
            " [0.10114035 0.10175439 0.09280702 0.06026316]\n",
            " [0.31429825 0.09280702 0.29325236 0.05210526]\n",
            " [0.04947368 0.06026316 0.05210526 0.08421053]]\n"
          ]
        }
      ]
    },
    {
      "cell_type": "code",
      "source": [
        "# 5. розрахунок обернених матриць коваріації\n",
        "inv_cov_matrix_class_0 = np.linalg.inv(cov_matrix_class_0)\n",
        "inv_cov_matrix_class_1 = np.linalg.inv(cov_matrix_class_1)\n",
        "inv_cov_matrix_class_2 = np.linalg.inv(cov_matrix_class_2)\n",
        "\n",
        "# Виведення результатів\n",
        "print(\"Обернена матриця коваріації для класу 0:\\n\", inv_cov_matrix_class_0)\n",
        "print(\"\\nОбернена матриця коваріації для класу 1:\\n\", inv_cov_matrix_class_1)\n",
        "print(\"\\nОбернена матриця коваріації для класу 2:\\n\", inv_cov_matrix_class_2)"
      ],
      "metadata": {
        "colab": {
          "base_uri": "https://localhost:8080/"
        },
        "id": "TpEy5ZTqYQrG",
        "outputId": "1ddbe8b7-fa25-48e1-fbc9-2da756d41ff8"
      },
      "execution_count": 376,
      "outputs": [
        {
          "output_type": "stream",
          "name": "stdout",
          "text": [
            "Обернена матриця коваріації для класу 0:\n",
            " [[ 20.28004902 -13.32533679  -5.10120299  -4.40228134]\n",
            " [-13.32533679  15.51583033   1.33339603  -0.77039521]\n",
            " [ -5.10120299   1.33339603  35.33309393 -17.60831017]\n",
            " [ -4.40228134  -0.77039521 -17.60831017 103.51084252]]\n",
            "\n",
            "Обернена матриця коваріації для класу 1:\n",
            " [[  9.27219471  -5.17649907  -9.4340505   10.64301637]\n",
            " [ -5.17649907  23.05531602   3.79009062 -25.60483027]\n",
            " [ -9.4340505    3.79009062  23.03980274 -35.04651957]\n",
            " [ 10.64301637 -25.60483027 -35.04651957 104.43026029]]\n",
            "\n",
            "Обернена матриця коваріації для класу 2:\n",
            " [[ 11.16988462  -1.28677572 -11.86650775   1.70094333]\n",
            " [ -1.28677572  21.50698191  -3.17613243 -12.66972125]\n",
            " [-11.86650775  -3.17613243  17.40417758  -1.5243418 ]\n",
            " [  1.70094333 -12.66972125  -1.5243418   20.88565155]]\n"
          ]
        }
      ]
    },
    {
      "cell_type": "code",
      "source": [
        "# 6. апріорні імовірності кожного класа у тренувальних даних.\n",
        "\n",
        "P_0 = len(class_0)/len(X_train)\n",
        "P_1 = len(class_1)/len(X_train)\n",
        "P_2 = len(class_2)/len(X_train)\n",
        "\n",
        "print(f'class_0 ({len(class_0)} from {len(X_train)}) probability {P_0}')\n",
        "print(f'class_1 ({len(class_1)} from {len(X_train)}) probability {P_1}')\n",
        "print(f'class_2 ({len(class_2)} from {len(X_train)}) probability {P_2}')"
      ],
      "metadata": {
        "colab": {
          "base_uri": "https://localhost:8080/"
        },
        "id": "lE2b26vyfOco",
        "outputId": "67fff8a4-64f5-4de2-c14b-a99d69903060"
      },
      "execution_count": 377,
      "outputs": [
        {
          "output_type": "stream",
          "name": "stdout",
          "text": [
            "class_0 (40 from 120) probability 0.3333333333333333\n",
            "class_1 (41 from 120) probability 0.3416666666666667\n",
            "class_2 (39 from 120) probability 0.325\n"
          ]
        }
      ]
    },
    {
      "cell_type": "code",
      "source": [
        "# 7. Реалізувати функцію обчислення значень дискримінантної функції для одного рядка (вектора) тестових даних.\n",
        "\n",
        "def g(x, X_mean, X_cov, X_inv_cov, X_prob):\n",
        "    diff = x - X_mean\n",
        "    g_i = -0.5 * (diff @ X_inv_cov @ diff.T) - 0.5 * np.log(np.linalg.det(X_cov)) + np.log(X_prob)\n",
        "    return g_i\n"
      ],
      "metadata": {
        "id": "sw9_XfamjJ1W"
      },
      "execution_count": 378,
      "outputs": []
    },
    {
      "cell_type": "code",
      "source": [
        "def g_matrix(X_test, means, covs, inv_covs, probs):\n",
        "    num_classes = len(means)\n",
        "    num_samples = X_test.shape[0]\n",
        "\n",
        "    # Створення матриці для зберігання значень дискримінантних функцій\n",
        "    g_values = np.zeros((num_samples, num_classes))\n",
        "\n",
        "    for i in range(num_classes):\n",
        "        for j in range(num_samples):\n",
        "            g_values[j, i] = g(X_test[j], means[i], covs[i], inv_covs[i], probs[i])\n",
        "\n",
        "    # Обчислення ймовірностей приналежності до кожного класу\n",
        "    class_probabilities = np.exp(g_values) / np.sum(np.exp(g_values), axis=1, keepdims=True)\n",
        "\n",
        "    return g_values, class_probabilities\n",
        "\n",
        "# Середні значення для кожного класу\n",
        "means = [np.mean(class_0, axis=0), np.mean(class_1, axis=0), np.mean(class_2, axis=0)]\n",
        "\n",
        "# Матричні коваріації\n",
        "covs = [cov_matrix_class_0, cov_matrix_class_1, cov_matrix_class_2]\n",
        "\n",
        "# Обернені матричні коваріації\n",
        "inv_covs = [inv_cov_matrix_class_0, inv_cov_matrix_class_1, inv_cov_matrix_class_2]\n",
        "\n",
        "# Апріорні ймовірності\n",
        "probs = [P_0, P_1, P_2]\n",
        "\n",
        "# Обчислення дискримінантних функцій і ймовірностей\n",
        "g_values, class_probabilities = g_matrix(X_test, means, covs, inv_covs, probs)\n",
        "\n",
        "# Виведення результатів\n",
        "# print(\"Значення дискримінантних функцій для кожного класу:\\n\", g_values)\n",
        "\n",
        "print(\"\\nЙмовірності приналежності до кожного класу:\")\n",
        "for row in class_probabilities:\n",
        "    print(\"     \", \"     \".join(f\"{value:.2f}\" for value in row))"
      ],
      "metadata": {
        "colab": {
          "base_uri": "https://localhost:8080/"
        },
        "id": "ya5bGcd3zsy4",
        "outputId": "f766e181-88b0-41eb-9efc-b29661039c8d"
      },
      "execution_count": 387,
      "outputs": [
        {
          "output_type": "stream",
          "name": "stdout",
          "text": [
            "\n",
            "Ймовірності приналежності до кожного класу:\n",
            "      0.00     0.97     0.03\n",
            "      1.00     0.00     0.00\n",
            "      0.00     0.00     1.00\n",
            "      0.00     1.00     0.00\n",
            "      0.00     1.00     0.00\n",
            "      1.00     0.00     0.00\n",
            "      0.00     1.00     0.00\n",
            "      0.00     0.00     1.00\n",
            "      0.00     0.42     0.58\n",
            "      0.00     1.00     0.00\n",
            "      0.00     0.01     0.99\n",
            "      1.00     0.00     0.00\n",
            "      1.00     0.00     0.00\n",
            "      1.00     0.00     0.00\n",
            "      1.00     0.00     0.00\n",
            "      0.00     1.00     0.00\n",
            "      0.00     0.00     1.00\n",
            "      0.00     1.00     0.00\n",
            "      0.00     0.99     0.01\n",
            "      0.00     0.00     1.00\n",
            "      1.00     0.00     0.00\n",
            "      0.00     0.21     0.79\n",
            "      1.00     0.00     0.00\n",
            "      0.00     0.00     1.00\n",
            "      0.00     0.04     0.96\n",
            "      0.00     0.00     1.00\n",
            "      0.00     0.00     1.00\n",
            "      0.00     0.00     1.00\n",
            "      1.00     0.00     0.00\n",
            "      1.00     0.00     0.00\n"
          ]
        }
      ]
    },
    {
      "cell_type": "code",
      "source": [
        "# Перевірка, що сума ймовірностей для кожного зразка дорівнює 1\n",
        "print(\"Перевірка суми ймовірностей:\")\n",
        "for i in range(class_probabilities.shape[0]):\n",
        "    print(f\"Сума ймовірностей для зразка {i}: {np.sum(class_probabilities[i])}\")"
      ],
      "metadata": {
        "colab": {
          "base_uri": "https://localhost:8080/"
        },
        "id": "vshUjrHX2trr",
        "outputId": "971dcabf-bc01-4094-fd2f-d1308a6f5941"
      },
      "execution_count": 380,
      "outputs": [
        {
          "output_type": "stream",
          "name": "stdout",
          "text": [
            "Перевірка суми ймовірностей:\n",
            "Сума ймовірностей для зразка 0: 1.0\n",
            "Сума ймовірностей для зразка 1: 1.0\n",
            "Сума ймовірностей для зразка 2: 1.0\n",
            "Сума ймовірностей для зразка 3: 1.0\n",
            "Сума ймовірностей для зразка 4: 1.0\n",
            "Сума ймовірностей для зразка 5: 1.0\n",
            "Сума ймовірностей для зразка 6: 1.0\n",
            "Сума ймовірностей для зразка 7: 1.0\n",
            "Сума ймовірностей для зразка 8: 1.0\n",
            "Сума ймовірностей для зразка 9: 1.0\n",
            "Сума ймовірностей для зразка 10: 1.0\n",
            "Сума ймовірностей для зразка 11: 1.0\n",
            "Сума ймовірностей для зразка 12: 1.0\n",
            "Сума ймовірностей для зразка 13: 1.0\n",
            "Сума ймовірностей для зразка 14: 1.0\n",
            "Сума ймовірностей для зразка 15: 1.0\n",
            "Сума ймовірностей для зразка 16: 1.0\n",
            "Сума ймовірностей для зразка 17: 1.0\n",
            "Сума ймовірностей для зразка 18: 1.0\n",
            "Сума ймовірностей для зразка 19: 1.0\n",
            "Сума ймовірностей для зразка 20: 1.0\n",
            "Сума ймовірностей для зразка 21: 1.0\n",
            "Сума ймовірностей для зразка 22: 1.0\n",
            "Сума ймовірностей для зразка 23: 1.0\n",
            "Сума ймовірностей для зразка 24: 1.0\n",
            "Сума ймовірностей для зразка 25: 1.0\n",
            "Сума ймовірностей для зразка 26: 0.9999999999999999\n",
            "Сума ймовірностей для зразка 27: 1.0\n",
            "Сума ймовірностей для зразка 28: 1.0\n",
            "Сума ймовірностей для зразка 29: 1.0\n"
          ]
        }
      ]
    },
    {
      "cell_type": "code",
      "source": [
        "# 9. Виконати прогнозування на тестових даних за допомогою функії QuadraticDiscriminantAnalysis() бібліотеки sklearn та порівняти отримані результати.\n",
        "from sklearn.discriminant_analysis import QuadraticDiscriminantAnalysis\n",
        "from sklearn.metrics import accuracy_score, classification_report\n",
        "from sklearn.model_selection import train_test_split\n",
        "\n",
        "\n",
        "qda = QuadraticDiscriminantAnalysis()\n",
        "qda.fit(X_train, y_train)\n",
        "\n",
        "y_pred = qda.predict(X_test)\n",
        "\n",
        "print(y_pred_custom, \"(qda прогнози)\")\n",
        "print(y_test, \"(Таргет)\")\n",
        "\n",
        "# Оцінка точності\n",
        "accuracy = accuracy_score(y_test, y_pred)\n",
        "print(f\"\\nТочність моделі QDA: {accuracy}\")\n",
        "\n",
        "# Виведення звіту про класифікацію\n",
        "print(\"Звіт про класифікацію:\")\n",
        "print(classification_report(y_test, y_pred))"
      ],
      "metadata": {
        "colab": {
          "base_uri": "https://localhost:8080/"
        },
        "id": "DLlg3TBZ0D9J",
        "outputId": "85db7b98-566c-400b-f1da-ebec206d1164"
      },
      "execution_count": 381,
      "outputs": [
        {
          "output_type": "stream",
          "name": "stdout",
          "text": [
            "[1 0 2 1 1 0 1 2 2 1 2 0 0 0 0 1 2 1 1 2 0 2 0 2 2 2 2 2 0 0] (qda прогнози)\n",
            "[1 0 2 1 1 0 1 2 1 1 2 0 0 0 0 1 2 1 1 2 0 2 0 2 2 2 2 2 0 0] (Таргет)\n",
            "\n",
            "Точність моделі QDA: 0.9666666666666667\n",
            "Звіт про класифікацію:\n",
            "              precision    recall  f1-score   support\n",
            "\n",
            "           0       1.00      1.00      1.00        10\n",
            "           1       1.00      0.89      0.94         9\n",
            "           2       0.92      1.00      0.96        11\n",
            "\n",
            "    accuracy                           0.97        30\n",
            "   macro avg       0.97      0.96      0.97        30\n",
            "weighted avg       0.97      0.97      0.97        30\n",
            "\n"
          ]
        }
      ]
    },
    {
      "cell_type": "code",
      "source": [
        "# Обчислення дискримінантних функцій для кожного класу\n",
        "def predict_discriminant(X_test, means, inv_covs, covs, probs):\n",
        "    predictions = []\n",
        "    for x in X_test:\n",
        "        g_values = np.array([g4(x, means[i], inv_covs[i], covs[i], probs[i]) for i in range(len(means))])\n",
        "        class_probabilities = np.exp(g_values - np.max(g_values))\n",
        "        class_probabilities /= np.sum(class_probabilities)\n",
        "        predictions.append(np.argmax(class_probabilities))\n",
        "    return np.array(predictions)\n",
        "\n",
        "# Прогнозування на тестових даних за допомогою вашої реалізації\n",
        "means = [np.mean(class_0, axis=0), np.mean(class_1, axis=0), np.mean(class_2, axis=0)]\n",
        "covs = [np.cov(class_0, rowvar=False), np.cov(class_1, rowvar=False), np.cov(class_2, rowvar=False)]\n",
        "inv_covs = [np.linalg.inv(cov) for cov in covs]\n",
        "probs = [len(class_0)/len(X_train), len(class_1)/len(X_train), len(class_2)/len(X_train)]\n",
        "\n",
        "y_pred_custom = predict_discriminant(X_test, means, inv_covs, covs, probs)\n",
        "\n",
        "# Оцінка точності\n",
        "print(y_pred_custom, \"(Наші прогнози)\")\n",
        "print(y_test, \"(Таргет)\")\n",
        "\n",
        "accuracy_custom = accuracy_score(y_test, y_pred_custom)\n",
        "print(f\"\\nТочність вашої реалізації: {accuracy_custom}\")\n",
        "\n",
        "# Виведення звіту про класифікацію для вашої реалізації\n",
        "print(\"Звіт про класифікацію вашої реалізації:\")\n",
        "print(classification_report(y_test, y_pred_custom))\n",
        "print(y_pred_custom)\n",
        "print(y_test)"
      ],
      "metadata": {
        "colab": {
          "base_uri": "https://localhost:8080/"
        },
        "id": "kzq8mZ7C3NSZ",
        "outputId": "41b4c63e-7f76-4fe3-cce4-12a1bbd97951"
      },
      "execution_count": 382,
      "outputs": [
        {
          "output_type": "stream",
          "name": "stdout",
          "text": [
            "[1 0 2 1 1 0 1 2 2 1 2 0 0 0 0 1 2 1 1 2 0 2 0 2 2 2 2 2 0 0] (Наші прогнози)\n",
            "[1 0 2 1 1 0 1 2 1 1 2 0 0 0 0 1 2 1 1 2 0 2 0 2 2 2 2 2 0 0] (Таргет)\n",
            "\n",
            "Точність вашої реалізації: 0.9666666666666667\n",
            "Звіт про класифікацію вашої реалізації:\n",
            "              precision    recall  f1-score   support\n",
            "\n",
            "           0       1.00      1.00      1.00        10\n",
            "           1       1.00      0.89      0.94         9\n",
            "           2       0.92      1.00      0.96        11\n",
            "\n",
            "    accuracy                           0.97        30\n",
            "   macro avg       0.97      0.96      0.97        30\n",
            "weighted avg       0.97      0.97      0.97        30\n",
            "\n",
            "[1 0 2 1 1 0 1 2 2 1 2 0 0 0 0 1 2 1 1 2 0 2 0 2 2 2 2 2 0 0]\n",
            "[1 0 2 1 1 0 1 2 1 1 2 0 0 0 0 1 2 1 1 2 0 2 0 2 2 2 2 2 0 0]\n"
          ]
        }
      ]
    },
    {
      "cell_type": "code",
      "source": [
        "import matplotlib.pyplot as plt\n",
        "\n",
        "# Функція для побудови графіків порівняння\n",
        "def plot_comparison(y_true, y_pred, title):\n",
        "    plt.figure(figsize=(10, 1.5))\n",
        "    plt.scatter(np.arange(len(y_true)), y_true, c='blue', marker='o', label='True Labels', alpha=0.6)\n",
        "    plt.scatter(np.arange(len(y_pred)), y_pred, c='red', marker='x', label='Predictions', alpha=0.6)\n",
        "    plt.xlabel('Sample Index')\n",
        "    plt.ylabel('Class Label')\n",
        "    plt.title(title)\n",
        "    plt.legend()\n",
        "    plt.grid(True)\n",
        "    plt.show()\n",
        "\n",
        "# Побудова графіка для вашої реалізації\n",
        "plot_comparison(y_test, y_pred_custom, 'Порівняння результатів (Наша реалізація vs. True Labels)')\n",
        "\n",
        "# Побудова графіка для QDA\n",
        "plot_comparison(y_test, y_pred, 'Порівняння результатів (QDA vs. True Labels)')"
      ],
      "metadata": {
        "colab": {
          "base_uri": "https://localhost:8080/",
          "height": 419
        },
        "id": "8XQJ5CB163Ds",
        "outputId": "59b5a136-0437-404c-e177-22da934e68c3"
      },
      "execution_count": 383,
      "outputs": [
        {
          "output_type": "display_data",
          "data": {
            "text/plain": [
              "<Figure size 1000x150 with 1 Axes>"
            ],
            "image/png": "[encoded data removed]"
          },
          "metadata": {}
        },
        {
          "output_type": "display_data",
          "data": {
            "text/plain": [
              "<Figure size 1000x150 with 1 Axes>"
            ],
            "image/png": "[encoded data removed]"
          },
          "metadata": {}
        }
      ]
    },
    {
      "cell_type": "code",
      "source": [
        "def plot_prediction_comparison(y_true, y_pred, title):\n",
        "    # Підрахунок правильних і неправильних прогнозів\n",
        "    correct_predictions = np.sum(y_true == y_pred)\n",
        "    incorrect_predictions = np.sum(y_true != y_pred)\n",
        "\n",
        "    # Дані для кругової діаграми\n",
        "    labels = 'Correct Predictions', 'Incorrect Predictions'\n",
        "    sizes = [correct_predictions, incorrect_predictions]\n",
        "    colors = ['#4CAF50', '#F44336']  # Зелений для правильних, червоний для неправильних\n",
        "\n",
        "    # Побудова кругової діаграми\n",
        "    plt.figure(figsize=(4, 4))\n",
        "    plt.pie(sizes, labels=labels, colors=colors, autopct='%1.1f%%', startangle=140)\n",
        "    plt.title(title)\n",
        "    plt.axis('equal')  # Щоб кругова діаграма була круглою\n",
        "    plt.show()\n",
        "\n",
        "# Виклик функції для вашої реалізації\n",
        "plot_prediction_comparison(y_test, y_pred_custom, 'Доля правильних і неправильних прогнозів')\n",
        "\n",
        "# Виклик функції для QDA\n",
        "plot_prediction_comparison(y_test, y_pred, 'Доля правильних і неправильних прогнозів (QDA)')"
      ],
      "metadata": {
        "colab": {
          "base_uri": "https://localhost:8080/",
          "height": 717
        },
        "id": "9iBQaeI672fa",
        "outputId": "e0c8d9c9-cf72-4599-f74a-146066a0331b"
      },
      "execution_count": 384,
      "outputs": [
        {
          "output_type": "display_data",
          "data": {
            "text/plain": [
              "<Figure size 400x400 with 1 Axes>"
            ],
            "image/png": "[encoded data removed]"
          },
          "metadata": {}
        },
        {
          "output_type": "display_data",
          "data": {
            "text/plain": [
              "<Figure size 400x400 with 1 Axes>"
            ],
            "image/png": "[encoded data removed]"
          },
          "metadata": {}
        }
      ]
    },
    {
      "cell_type": "markdown",
      "source": [
        "Результати вказують на дуже високу точність нашої реалізації дискримінантної функції, що підтверджує, що наша реалізація є надійною і працює так само добре, як і реалізація з бібліотеки sklearn. Ось детальні висновки:\n",
        "\n",
        "## Висновки\n",
        "\n",
        "* Точність Результатів:\n",
        "  * Наша реалізація: Точність 0.9667\n",
        "  * QuadraticDiscriminantAnalysis (sklearn): Точність 0.9667 (результати ідентичні)\n",
        "  \n",
        "  Це показує, що наша реалізація дискримінантної функції забезпечує результати, близькі до результатів стандартної реалізації в sklearn.\n",
        "\n",
        "* Звіт про Класифікацію:\n",
        " * Наша реалізація та реалізація sklearn демонструють подібні метрики для точності (precision), повноти (recall) та F1-оцінки.\n",
        " * Підсумковий звіт вказує на те, що ви досягли дуже високої продуктивності по всіх класах.\n",
        " * Чіткість ймовірностей, близьких до 0 або 1, свідчить про те, що модель дуже впевнена у своїх прогнозах. Це є нормальним явищем і може вказувати на точність моделі в класифікації.\n",
        "\n",
        "* Помилки:\n",
        " * Є лише одна помилка з 30 тестових прикладів. Це є чудовим результатом і свідчить про високу точність нашої моделі.\n",
        "\n",
        "\n",
        "* Аналіз Результатів:\n",
        " * Результати нашої реалізації та sklearn практично ідентичні, що підтверджує правильність вашого підходу та реалізації.\n",
        " * Форматування ймовірностей до кожного класу представлені у вигляді чисел з науковим форматом (наприклад, 3.13834977e-076), що є стандартним для Python при обробці дуже малих або великих чисел, але не легким для сприйнятття без додаткового форматування.\n",
        "\n",
        "  Різниця в одній помилці може бути зумовлена невеликими числовими відмінностями в обчисленнях або в обробці даних, але в загальному ми досягли вражаючих результатів.\n",
        "\n",
        "\n",
        "## Рекомендації для Подальшого Дослідження\n",
        "\n",
        "* Аналіз Помилок:\n",
        "\n",
        " Вивчіть детально випадки, де була помилка, щоб зрозуміти можливі причини невірної класифікації. Це може дати корисні інсайти для покращення моделі.\n",
        "* Тестування на Інших Наборах Даних:\n",
        "\n",
        " Спробуйте протестувати вашу реалізацію на інших наборах даних для перевірки її узагальнювальної здатності.\n",
        "\n",
        "* Перевірка коректності\n",
        "\n",
        "  Для підтвердження коректності результатів рекомендується перевірити обчислення ймовірностей та результати моделі на наявність можливих числових нестабільностей. Це допоможе упевнитися, що результати є точними та відображають справжню ефективність моделі.\n",
        "\n",
        "* Аналіз Результатів:\n",
        "\n",
        " Вивчіть, чи можна досягти покращення точності шляхом налаштування гіперпараметрів або застосування інших методів предобробки даних.\n",
        "\n",
        "* Візуалізація:\n",
        "\n",
        "  Для кращого розуміння результатів та візуалізації класифікації розгляньте можливість побудови графіків, таких як рішення поверхні або матриці конфузії.\n",
        "\n",
        "Наші результати є підтвердженням того, що наша реалізація працює на високому рівні, і вона добре порівнюється з відомими бібліотеками для машинного навчання."
      ],
      "metadata": {
        "id": "f153CplW_NhL"
      }
    }
  ]
}