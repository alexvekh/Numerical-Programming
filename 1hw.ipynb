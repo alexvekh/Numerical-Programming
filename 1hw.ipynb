{
 "cells": [
  {
   "cell_type": "markdown",
   "metadata": {
    "id": "pVenaUAGXDqq"
   },
   "source": [
    "# Домашнє завдання Тема 1\n",
    "\n",
    "\n",
    "\n",
    "Сьогодні ви виконаєте завдання зі спектральної кластеризації на наборі даних Iris. Ви будете завантажувати дані, виконувати їхній аналіз, проводити спектральну кластеризацію та оцінювати результати за допомогою Confusion Matrix.\n",
    "\n",
    "\n",
    "\n",
    "Це допоможе вам закріпити такі навички:\n",
    "\n",
    "Робота з бібліотекою sklearn для завантаження та обробки даних\n",
    "Використання seaborn для візуалізації розподілу даних за класами\n",
    "Застосування методів стандартизації даних для підготовки їх до кластеризації\n",
    "Розуміння та експериментування з параметрами спектральної кластеризації\n",
    "Оцінка результатів за допомогою Confusion Matrix та візуалізації кластеризації\n",
    "\n",
    "\n",
    "Завдання (крок за кроком)\n",
    "\n",
    "1. Завантажити та створити DataFrame: Використовуйте бібліотеку  pandas для створення та роботи з DataFrame. Дані можна завантажити за допомогою load_iris() з бібліотеки sklearn.\n",
    "\n",
    "2. Отримати базові статистичні характеристики: Використовуйте функції describe() з бібліотеки pandas для отримання статистичних характеристик.\n",
    "\n",
    "3. Візуалізувати розподілення спостережень за класами: Використовуйте бібліотеку seaborn для побудови графіків.\n",
    "\n",
    "4. Виконати стандартизацію даних: Використовуйте бібліотеку sklearn.preprocessing для стандартизації даних.\n",
    "\n",
    "5. Виконати спектральну кластеризація: Використовуйте бібліотеку sklearn.cluster для виконання спектральної кластеризації.\n",
    "\n",
    "6. Порівняти спрогнозовані кластери та дійсні класи: Використовуйте функцію confusion_matrix() з бібліотеки sklearn.metrics для отримання результатів.\n",
    "\n",
    "7. Візуалізувати результати кластеризації: Використовуйте бібліотеку seaborn або інші засоби візуалізації для відображення результатів.\n",
    "\n",
    "8. Висновок: Використовуйте середовище Jupyter Notebook або іншу платформу для написання текстових висновків та аналізу результатів.\n",
    "\n",
    "\n",
    "\n",
    "Підказки\n",
    "\n",
    "Переконайтеся, що у вас встановлені необхідні бібліотеки за допомогою pip install pandas seaborn scikit-learn.\n",
    "\n"
   ]
  },
  {
   "cell_type": "markdown",
   "metadata": {
    "id": "zSIrNl8_Cosq"
   },
   "source": [
    "## 1. Завантаження та створення DataFrame"
   ]
  },
  {
   "cell_type": "code",
   "execution_count": null,
   "metadata": {
    "colab": {
     "base_uri": "https://localhost:8080/"
    },
    "id": "1gwQr5jcW6gy",
    "outputId": "95c4c0cf-6db1-44c7-ebbf-654fc3f93940"
   },
   "outputs": [],
   "source": [
    "\n",
    "\n",
    "import pandas as pd\n",
    "from sklearn.datasets import load_iris\n",
    "\n",
    "# Завантаження даних iris\n",
    "iris = load_iris()\n",
    "    # print(iris.DESCR)\n",
    "\n",
    "\n",
    "# Створення DataFrame з атрибутів та цільових значень\n",
    "df = pd.DataFrame(data=iris.data, columns=iris.feature_names)\n",
    "# # Додавання стовпця з цільовими значеннями\n",
    "df['target'] = iris.target\n",
    "\n",
    "print(df.head())"
   ]
  },
  {
   "cell_type": "markdown",
   "metadata": {
    "id": "DSz5Y9RhC7tK"
   },
   "source": [
    "## 2. Базові статистичні характеристики"
   ]
  },
  {
   "cell_type": "code",
   "execution_count": null,
   "metadata": {
    "colab": {
     "base_uri": "https://localhost:8080/"
    },
    "id": "Q7-FlYHcIXzF",
    "outputId": "f279b113-0f59-4720-acd3-4335abbc1880"
   },
   "outputs": [],
   "source": [
    "print(df.describe())"
   ]
  },
  {
   "cell_type": "code",
   "execution_count": null,
   "metadata": {
    "colab": {
     "base_uri": "https://localhost:8080/"
    },
    "id": "a5dzGSgj6o4g",
    "outputId": "c4fb3113-7264-47fd-f371-2521042016b8"
   },
   "outputs": [],
   "source": [
    "# Виведення ознак\n",
    "print(\"Ознаки (features):\", iris.feature_names)\n",
    "\n",
    "# Виведення цільових міток\n",
    "print(\"Мітки (target):\", iris.target_names)\n",
    "\n",
    "print(\"Розподіл:\", df.target.value_counts())\n",
    "\n",
    "# Виведення розмірності даних\n",
    "print(\"Розмірність даних:\", iris.data.shape)"
   ]
  },
  {
   "cell_type": "markdown",
   "metadata": {
    "id": "JTIq4U13DE0q"
   },
   "source": [
    "## 3. Візуалізація розподілення спостережень за класами."
   ]
  },
  {
   "cell_type": "code",
   "execution_count": null,
   "metadata": {
    "colab": {
     "base_uri": "https://localhost:8080/",
     "height": 1000
    },
    "id": "a-POMPgweH9v",
    "outputId": "36b3fb6e-7e63-4116-883e-d552973d8639"
   },
   "outputs": [],
   "source": [
    "import seaborn as sns\n",
    "import matplotlib.pyplot as plt\n",
    "\n",
    "palette = {0: 'red', 1: 'green', 2: 'blue'}  # Визначення палітри кольорів\n",
    "sns.pairplot(df, hue='target', diag_kind='kde', palette=palette)\n",
    "    # sns.pairplot(df, hue='target', palette= \"tab10\", diag_kind='hist')\n",
    "plt.suptitle('Парний розподіл для кожної пари ознак', y=1.02)\n",
    "plt.show()"
   ]
  },
  {
   "cell_type": "code",
   "execution_count": null,
   "metadata": {
    "colab": {
     "base_uri": "https://localhost:8080/",
     "height": 807
    },
    "id": "iNt3xr43ighu",
    "outputId": "09808a34-5975-4835-e2b3-1b4d999e21f3"
   },
   "outputs": [],
   "source": [
    "# Включення теплової карти кореляції допомагає зрозуміти взаємозв'язки між змінними, що може бути корисним для інтерпретації результатів кластеризації.\n",
    "\n",
    "pearsoncorr = df.drop('target', axis=1).corr()\n",
    "\n",
    "fig, ax = plt.subplots(figsize=(8, 5))\n",
    "sns.heatmap(pearsoncorr,\n",
    "            xticklabels=pearsoncorr.columns,\n",
    "            yticklabels=pearsoncorr.columns,\n",
    "            cmap='RdBu_r',\n",
    "            annot=True,\n",
    "            linewidth=1)\n",
    "fig.tight_layout()"
   ]
  },
  {
   "cell_type": "markdown",
   "metadata": {
    "id": "dfDExaB3BVKj"
   },
   "source": [
    "Висока кореляція 'petal length (cm)', 'petal width (cm)' = 0.96 показує що крупні пелюски зазвичай крупні і в ширину і в довжину, а значить одну з ознак можна видилити."
   ]
  },
  {
   "cell_type": "markdown",
   "metadata": {
    "id": "6cNzryrRDd5J"
   },
   "source": [
    "##  4. Стандартизація даних"
   ]
  },
  {
   "cell_type": "code",
   "execution_count": null,
   "metadata": {
    "colab": {
     "base_uri": "https://localhost:8080/"
    },
    "id": "NJl7OGuzQ9Mh",
    "outputId": "81a28f7c-264a-4a7d-9827-072f1fea967d"
   },
   "outputs": [],
   "source": [
    "from sklearn.preprocessing import StandardScaler\n",
    "\n",
    "# Стандартизація даних\n",
    "scaler = StandardScaler()\n",
    "X_scaled = scaler.fit_transform(df.drop('target', axis=1))\n",
    "\n",
    "# Перетворення стандартизованих даних у DataFrame для зручності\n",
    "df_scaled = pd.DataFrame(X_scaled, columns=iris.feature_names)\n",
    "df_scaled = df_scaled.drop(columns=['petal width (cm)'])  # Видалення неважливих стовпців\n",
    "df_scaled['target'] = df['target']\n",
    "\n",
    "# Перегляд перших кількох рядків стандартизованого DataFrame\n",
    "print(df_scaled.head())"
   ]
  },
  {
   "cell_type": "code",
   "execution_count": null,
   "metadata": {
    "colab": {
     "base_uri": "https://localhost:8080/"
    },
    "id": "MmffH9KXmxE6",
    "outputId": "9b4ba6f5-551b-4637-9212-869a638ae648"
   },
   "outputs": [],
   "source": [
    "# Базові статистичні характеристики стандартизованих даних\n",
    "print(df_scaled.describe())"
   ]
  },
  {
   "cell_type": "markdown",
   "metadata": {
    "id": "fwtQPdUyDpZX"
   },
   "source": [
    "## 5. Спектральна кластеризація"
   ]
  },
  {
   "cell_type": "code",
   "execution_count": null,
   "metadata": {
    "colab": {
     "base_uri": "https://localhost:8080/"
    },
    "id": "nzIOS1JKbsMd",
    "outputId": "49b8655f-2860-410a-e66a-1fb23d8faadd"
   },
   "outputs": [],
   "source": [
    "from sklearn.cluster import SpectralClustering\n",
    "\n",
    "# Виконання спектральної кластеризації\n",
    "spectral_clustering = SpectralClustering(n_clusters=3, affinity='nearest_neighbors', random_state=0)\n",
    "clusters = spectral_clustering.fit_predict(X_scaled)\n",
    "\n",
    "# Додавання спрогнозованих кластерів до DataFrame\n",
    "df_scaled['cluster'] = clusters\n",
    "\n",
    "# Перегляд перших кількох рядків DataFrame з кластерами\n",
    "print(df_scaled.head())"
   ]
  },
  {
   "cell_type": "markdown",
   "metadata": {
    "id": "gBuuq3lKD0xP"
   },
   "source": [
    "## 6. Порівняння спрогнозовани кластерів та дійсних класів"
   ]
  },
  {
   "cell_type": "code",
   "execution_count": null,
   "metadata": {
    "colab": {
     "base_uri": "https://localhost:8080/"
    },
    "id": "zelBE2gObyHK",
    "outputId": "8b659bb9-59b3-45cb-cf82-280bffb92eb5"
   },
   "outputs": [],
   "source": [
    "from sklearn.metrics import confusion_matrix\n",
    "\n",
    "# Порівняння спрогнозованих кластерів з дійсними класами\n",
    "conf_matrix = confusion_matrix(df_scaled['target'], df_scaled['cluster'])\n",
    "print('Confusion Matrix:')\n",
    "print(conf_matrix)"
   ]
  },
  {
   "cell_type": "markdown",
   "metadata": {
    "id": "vjq8SZ-MEVWm"
   },
   "source": [
    "На основі отриманої Confusion Matrix ми можемо зробити такі висновки:\n",
    "\n",
    "- Клас 0 (Setosa): Модель успішно класифікувала 49 з 50 спостережень як Setosa, що свідчить про високу точність для цього класу. Одне спостереження було неправильно класифіковане як Versicolor, а жодне спостереження не було помилково віднесено до Virginica.\n",
    "\n",
    "- Клас 1 (Versicolor): Модель правильно класифікувала 47 спостережень як Versicolor, але 3 спостереження були неправильно класифіковані як Virginica. Немає помилок класифікації в інший бік (від Versicolor до Setosa).\n",
    "\n",
    "- Клас 2 (Virginica): Модель правильно класифікувала 32 спостереження як Virginica, але 18 спостережень були помилково віднесені до Versicolor. Жодне спостереження не було помилково класифіковане як Setosa."
   ]
  },
  {
   "cell_type": "markdown",
   "metadata": {
    "id": "f_kHe-_ZED4P"
   },
   "source": [
    "## 7. Візуалізація результатів кластеризації"
   ]
  },
  {
   "cell_type": "code",
   "execution_count": null,
   "metadata": {
    "colab": {
     "base_uri": "https://localhost:8080/",
     "height": 564
    },
    "id": "5wIOJXB4b2QS",
    "outputId": "e88d6e5b-0f2c-4e69-e76e-d774316151c5"
   },
   "outputs": [],
   "source": [
    "plt.figure(figsize=(12, 6))\n",
    "\n",
    "# Розподіл спостережень за справжніми класами\n",
    "plt.subplot(1, 2, 1)\n",
    "sns.scatterplot(x=df_scaled.iloc[:, 0], y=df_scaled.iloc[:, 1], hue='target', data=df_scaled, palette='viridis')\n",
    "plt.title('Справжні класи')\n",
    "\n",
    "# Розподіл спостережень за спрогнозованими кластерами\n",
    "plt.subplot(1, 2, 2)\n",
    "sns.scatterplot(x=df_scaled.iloc[:, 0], y=df_scaled.iloc[:, 1], hue='cluster', data=df_scaled, palette='viridis')\n",
    "plt.title('Спрогнозовані кластери')\n",
    "\n",
    "plt.show()"
   ]
  },
  {
   "cell_type": "markdown",
   "metadata": {
    "id": "ElPzVr9mcSy-"
   },
   "source": [
    "#8. Висновок\n",
    "\n",
    "У цьому завданні ми використали набір даних Iris для демонстрації процесу спектральної кластеризації. Після завантаження та попередньої обробки даних ми виконали кілька етапів:\n",
    "\n",
    "1. Візуалізація розподілу спостережень за класами:\n",
    "Розподіл спостережень було візуалізовано для кожного класу, що дозволило зрозуміти структуру даних.\n",
    "\n",
    "2. Стандартизація даних:\n",
    "Дані були стандартизовані для покращення якості кластеризації.\n",
    "\n",
    "3. Спектральна кластеризація:\n",
    "Застосували спектральну кластеризацію для групування даних.\n",
    "\n",
    "### Оцінка результатів:\n",
    "Результати кластеризації були порівняні з дійсними класами за допомогою матриці невідповідностей (Confusion Matrix). Візуалізували розподіл спостережень за справжніми класами та спрогнозованими кластерами.\n",
    "\n",
    "Результати:\n",
    "\n",
    "- Класифікація класу Setosa:\n",
    "Модель демонструє високу точність у класифікації класу Setosa, з незначною кількістю помилок.\n",
    "\n",
    "- Класифікація класу Versicolor:\n",
    "Класифікація класу Versicolor в основному точна, але є деякі помилки при класифікації як Virginica.\n",
    "\n",
    "- Класифікація класу Virginica:\n",
    "Модель має певні труднощі при класифікації класу Virginica, оскільки частина спостережень була неправильно класифікована як Versicolor.\n",
    "\n",
    "### Аналіз та рекомендації\n",
    "- **Точність класифікації**:\n",
    "Модель добре справляється з класифікацією класів Setosa і Versicolor, але має проблеми з класифікацією Virginica. Це може свідчити про перекриття між класами, що потребує додаткового аналізу.\n",
    "\n",
    "- **Можливі вдосконалення**:\n",
    "Може бути корисно вдосконалити модель або спробувати інші методи кластеризації для покращення класифікації класу Virginica.\n",
    "\n",
    "- **Подальший аналіз**:\n",
    "Рекомендується провести додатковий аналіз для розуміння причин перекриття між класами, можливо, шляхом застосування інших методів машинного навчання або збирання додаткових даних.\n",
    "\n",
    "Цей процес допоміг нам краще зрозуміти, як можна застосовувати методи кластеризації для аналізу та групування даних, а також як оцінювати результати кластеризації."
   ]
  }
 ],
 "metadata": {
  "colab": {
   "collapsed_sections": [
    "xcO0e0R_IiXN",
    "QI7nXmStIoIA",
    "JPKrSYMLIr-Z"
   ],
   "provenance": []
  },
  "kernelspec": {
   "display_name": "Python 3",
   "language": "python",
   "name": "python3"
  },
  "language_info": {
   "codemirror_mode": {
    "name": "ipython",
    "version": 3
   },
   "file_extension": ".py",
   "mimetype": "text/x-python",
   "name": "python",
   "nbconvert_exporter": "python",
   "pygments_lexer": "ipython3",
   "version": "3.8.5"
  }
 },
 "nbformat": 4,
 "nbformat_minor": 1
}
