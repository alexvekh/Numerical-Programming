{
  "cells": [
    {
      "cell_type": "markdown",
      "metadata": {
        "colab_type": "toc",
        "id": "4eOp5WAxClBp"
      },
      "source": [
        ">[Нормальний розподіл](#scrollTo=jlG03TFH0Pfl)\n",
        "\n",
        ">>[Лінійний дискримінантний аналіз (LDA)](#scrollTo=GFwy07BIHT_c)\n",
        "\n",
        ">>[Застосування теореми Баєса в LDA](#scrollTo=7f_QgHhVITF3)\n",
        "\n",
        ">>[Використання бібліотеки Sklearn](#scrollTo=aHWz3lvZJORt)\n",
        "\n",
        ">[Квадратичний дискримінантний аналіз (QDA)](#scrollTo=8IBYcd36JdgL)\n",
        "\n",
        ">>[Коваріаційна матриця](#scrollTo=l4VwS6EgNRI0)\n",
        "\n",
        ">>[Коваріаційна матриця](#scrollTo=l4VwS6EgNRI0)\n",
        "\n",
        ">>[Класифікатор на основі QDA](#scrollTo=9NmyXUVLPWD6)\n",
        "\n",
        ">>[Використання бібліотеки Sklearn](#scrollTo=4NkRihT-Qast)\n",
        "\n",
        ">[Додаткові матеріали](#scrollTo=PcS4T72N-hR4)\n",
        "\n"
      ]
    },
    {
      "cell_type": "markdown",
      "source": [
        "***Функція щільності ймовірностей*** (Probability Density Function, PDF) — це функція, яка описує відносну ймовірність, з якою змінна може приймати певне значення у неперервному розподілі ймовірностей.\n",
        "\n",
        "В неперервних розподілах ймовірність того, що змінна прийме точно певне значення, зазвичай дорівнює нулю. Замість цього, функція щільності ймовірностей дозволяє визначити ймовірність того, що змінна опиниться в малому інтервалі довкола цього значення.\n",
        "\n",
        "Ця функція визначає зв'язок між випадковою змінною та її ймовірністю таким чином, що ви можете знайти ймовірність змінної, використовуючи її.\n",
        "\n",
        "Існують різні типи змінних. Вони головним чином поділяються на два типи:\n",
        "\n",
        "* ***Дискретна змінна***. Змінна, яка може приймати лише певне кінцеве значення в межах певного діапазону, називається дискретною змінною. Зазвичай значення відділяються скінченним інтервалом, наприклад, сума двох кубиків. Коли кидають два кубики і складають результати, результат може належати лише до набору чисел, що не перевищує 12 (оскільки максимальний результат кидка кубика - 6). Значення також є визначеними.\n",
        "\n",
        "* ***Неперервна змінна***. Неперервна випадкова змінна може приймати нескінченну кількість різних значень у діапазоні значень, наприклад, кількість опадів, що випали протягом місяця. Зафіксований обсяг дощу може становити 1.7 см, але точне значення невідоме. Насправді це може бути 1.701, 1.7687 і т.д. Таким чином, ви можете лише визначити діапазон значень, до якого воно входить. У цьому діапазоні воно може приймати нескінченну кількість різних значень.\n",
        "\n"
      ],
      "metadata": {
        "id": "Crm2pYCBn1QY"
      }
    },
    {
      "cell_type": "markdown",
      "source": [
        "для неперервних випадкових величин.\n",
        "\n",
        "# Розподіл Гауса\n",
        "\n",
        "Розподіл Гауса, також відомий як нормальний розподіл чи розподіл Гауса-Лапласа, є одним з найважливіших розподілів у статистиці та ймовірнісних теоріях. Він описує, як випадкові величини розподіляються у навколишньому світі та багатьох інших природних процесах. Функція щільності ймовірностей (PDF) для нормального розподілу виглядає наступним чином:\n",
        "\n",
        "$$\n",
        "f(x) = \\frac{1}{\\sigma \\sqrt{2\\pi}} e^{-\\frac{(x - \\mu)^2}{2\\sigma^2}}\n",
        "$$\n",
        "\n",
        "\n",
        "![image.png](data:image/png;base64,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)\n",
        "\n",
        "де:\n",
        "- x - випадкова величина\n",
        "- μ - середнє (середнє значення) розподілу\n",
        "- $σ^2$  - дисперсія (квадрат стандартного відхилення)\n",
        "- e- основа натурального логарифма (приблизно 2.71828)"
      ],
      "metadata": {
        "id": "QCq_gupZqLqG"
      }
    },
    {
      "cell_type": "markdown",
      "source": [
        "#Нормальний розподіл\n",
        "\n"
      ],
      "metadata": {
        "id": "jlG03TFH0Pfl"
      }
    },
    {
      "cell_type": "markdown",
      "source": [
        "Визначити імовірність того, що випадкова величина приймає значення менші заданого"
      ],
      "metadata": {
        "id": "H31SwR9oGuKn"
      }
    },
    {
      "cell_type": "code",
      "source": [
        "from scipy.stats import norm\n",
        "\n",
        "# Параметри розподілу\n",
        "mu = 0  # середнє значення\n",
        "sigma = 1  # стандартне відхилення\n",
        "\n",
        "# Задана точка, для якої ми хочемо обчислити ймовірність P(X < x)\n",
        "x = 2\n",
        "\n",
        "# Обчислення функції розподілу\n",
        "probability = norm.cdf(x, mu, sigma)\n",
        "\n",
        "print(f'P(X < {x}) = {probability:.4f}')"
      ],
      "metadata": {
        "colab": {
          "base_uri": "https://localhost:8080/"
        },
        "id": "ObKa_XYtGtBR",
        "outputId": "dff5418d-29df-49d5-a6ad-3b66eb174e8e"
      },
      "execution_count": null,
      "outputs": [
        {
          "output_type": "stream",
          "name": "stdout",
          "text": [
            "P(X < 2) = 0.9772\n"
          ]
        }
      ]
    },
    {
      "cell_type": "code",
      "source": [
        "# Для побудови графіка функції щільності ймовірностей (PDF) для нормального розподілу та позначення точки x=2 можемо використовувати бібліотеки `matplotlib` та `numpy` в поєднанні з `scipy`. Ось приклад коду:\n",
        "\n",
        "import numpy as np\n",
        "import matplotlib.pyplot as plt\n",
        "from scipy.stats import norm\n",
        "import pandas as pd\n",
        "\n",
        "# Параметри розподілу\n",
        "mu = 0\n",
        "sigma = 1\n",
        "\n",
        "# Створення значень x для графіка\n",
        "x_values = np.linspace(-3, 3, 100)\n",
        "\n",
        "# Обчислення значень функції щільності ймовірностей (PDF)\n",
        "pdf_values = norm.pdf(x_values, mu, sigma)\n",
        "print(pdf_values)\n",
        "print(sum(pdf_values))\n",
        "# Побудова графіка\n",
        "plt.figure(figsize=(8, 6))\n",
        "plt.plot(x_values, pdf_values, label=r'$f(x|0, 1) = \\frac{1}{\\sqrt{2\\pi}} e^{-\\frac{x^2}{2}}$', color='blue')\n",
        "plt.fill_between(x_values, pdf_values, color='skyblue', alpha=0.3)\n",
        "\n",
        "# Позначення точки x = 2\n",
        "plt.scatter([2], [norm.pdf(2, mu, sigma)], color='red', label='P(X < 2)', zorder=5)\n",
        "plt.annotate('P(X < 2)', xy=(2, norm.pdf(2, mu, sigma)), xytext=(2.5, 0.25),\n",
        "             arrowprops=dict(facecolor='black', arrowstyle='->'),\n",
        "             fontsize=10)\n",
        "\n",
        "# Налаштування графіка\n",
        "plt.title('Нормальний розподіл Гауса')\n",
        "plt.xlabel('x')\n",
        "plt.ylabel('Щільність імовірностей')\n",
        "plt.legend()\n",
        "plt.grid(True)\n",
        "\n",
        "# Показати графік\n",
        "plt.show()\n"
      ],
      "metadata": {
        "colab": {
          "base_uri": "https://localhost:8080/",
          "height": 877
        },
        "id": "OUPvjjqKHO2l",
        "outputId": "c03a722f-5e34-4003-a490-aa12786c12f1"
      },
      "execution_count": null,
      "outputs": [
        {
          "output_type": "stream",
          "name": "stdout",
          "text": [
            "[0.00443185 0.00530579 0.00632878 0.00752133 0.00890582 0.0105065\n",
            " 0.01234943 0.01446241 0.01687483 0.01961746 0.02272223 0.02622189\n",
            " 0.03014961 0.03453857 0.03942137 0.0448295  0.05079264 0.05733801\n",
            " 0.06448952 0.07226707 0.08068571 0.08975477 0.09947714 0.10984842\n",
            " 0.12085626 0.13247967 0.14468855 0.15744319 0.17069405 0.18438164\n",
            " 0.1984366  0.21277993 0.22732351 0.24197072 0.2566174  0.27115285\n",
            " 0.28546117 0.29942268 0.31291556 0.3258175  0.33800759 0.34936814\n",
            " 0.35978656 0.36915722 0.37738323 0.38437808 0.3900672  0.39438923\n",
            " 0.39729716 0.39875915 0.39875915 0.39729716 0.39438923 0.3900672\n",
            " 0.38437808 0.37738323 0.36915722 0.35978656 0.34936814 0.33800759\n",
            " 0.3258175  0.31291556 0.29942268 0.28546117 0.27115285 0.2566174\n",
            " 0.24197072 0.22732351 0.21277993 0.1984366  0.18438164 0.17069405\n",
            " 0.15744319 0.14468855 0.13247967 0.12085626 0.10984842 0.09947714\n",
            " 0.08975477 0.08068571 0.07226707 0.06448952 0.05733801 0.05079264\n",
            " 0.0448295  0.03942137 0.03453857 0.03014961 0.02622189 0.02272223\n",
            " 0.01961746 0.01687483 0.01446241 0.01234943 0.0105065  0.00890582\n",
            " 0.00752133 0.00632878 0.00530579 0.00443185]\n",
            "16.45975096425618\n"
          ]
        },
        {
          "output_type": "display_data",
          "data": {
            "text/plain": [
              "<Figure size 800x600 with 1 Axes>"
            ],
            "image/png": "[encoded data removed]"
          },
          "metadata": {}
        }
      ]
    },
    {
      "cell_type": "markdown",
      "source": [
        "##Лінійний дискримінантний аналіз (LDA)\n",
        "\n",
        "\n",
        "\n",
        "\n",
        "\n",
        "\n",
        "\n",
        "\n",
        "\n",
        "\n"
      ],
      "metadata": {
        "id": "GFwy07BIHT_c"
      }
    },
    {
      "cell_type": "markdown",
      "source": [
        "Лінійний дискримінантний аналіз — це алгоритм класифікації, який використовує теорему Байєса для обчислення ймовірності того, що конкретне спостереження потрапить до позначеного класу.\n",
        "\n",
        "В основі алгоритму лежать такі припущення:\n",
        "* Розподіл змінної в кожному класі є нормальним (розподіл Гауса).\n",
        "* Дисперсія змінної в кожному класі однакова."
      ],
      "metadata": {
        "id": "a5WIRV5VWWmX"
      }
    },
    {
      "cell_type": "code",
      "source": [
        "data = {'Height': [140, 145, 135, 169, 165, 142, 168, 141, 159, 160, 172],\n",
        "        'Gender': ['F', 'F', 'F', 'M', 'F', 'M', 'M', 'F', 'F', 'M', 'M']}\n",
        "\n",
        "df = pd.DataFrame(data)\n",
        "print(df)\n"
      ],
      "metadata": {
        "colab": {
          "base_uri": "https://localhost:8080/"
        },
        "id": "x-fXHl1PHV7t",
        "outputId": "aab5dbd0-e3e9-44d0-fc02-da39fec8d7de"
      },
      "execution_count": null,
      "outputs": [
        {
          "output_type": "stream",
          "name": "stdout",
          "text": [
            "    Height Gender\n",
            "0      140      F\n",
            "1      145      F\n",
            "2      135      F\n",
            "3      169      M\n",
            "4      165      F\n",
            "5      142      M\n",
            "6      168      M\n",
            "7      141      F\n",
            "8      159      F\n",
            "9      160      M\n",
            "10     172      M\n"
          ]
        }
      ]
    },
    {
      "cell_type": "code",
      "source": [
        "# Наведений вище набір даних буде використано для розробки моделі за допомогою LDA, і перед тим, як це зробити, ми перевіримо його на припущення LDA, щоб побачити, чи можна реалізувати цей конкретний алгоритм.\n",
        "# Спершу ми повинні створити таблицю частот із стовпцем висоти, представленим у класових інтервалах, як показано нижче:\n",
        "\n",
        "def create_interval_dataframe(dataframe, step):\n",
        "    \"\"\"\n",
        "    Перетворює датафрейм з ростом та статтю у інтервальний датафрейм.\n",
        "\n",
        "    Параметри:\n",
        "    - dataframe: pd.DataFrame, вихідний датафрейм зі стовпцями 'Зріст' та 'Стать'.\n",
        "    - step: int, крок для побудови інтервалів.\n",
        "\n",
        "    Повертає:\n",
        "    - pd.DataFrame, інтервальний датафрейм зі стовпцями 'Інтервал', 'Чоловіки', 'Жінки'.\n",
        "    \"\"\"\n",
        "    # Розрахунок мінімального та максимального зросту\n",
        "    min_height = dataframe['Height'].min()\n",
        "    max_height = dataframe['Height'].max()\n",
        "\n",
        "    # Створення категорій для інтервалів\n",
        "    categories = pd.cut(dataframe['Height'], bins=np.arange(min_height, max_height + step, step), right=False)\n",
        "\n",
        "    # Додавання нового стовпця 'Інтервал'\n",
        "    dataframe['Interval'] = categories\n",
        "\n",
        "    # Сортування індексів\n",
        "    dataframe = dataframe.sort_values(by='Interval')\n",
        "\n",
        "    # Групування за інтервалами та статтю, підрахунок частот\n",
        "    grouped_df = dataframe.groupby(['Interval', 'Gender']).size().unstack().reset_index()\n",
        "\n",
        "    return grouped_df\n",
        "\n",
        "# Приклад використання:\n",
        "# Визначення кроку\n",
        "step = 5\n",
        "\n",
        "result_df = create_interval_dataframe(df, step)\n",
        "\n",
        "print(result_df)"
      ],
      "metadata": {
        "colab": {
          "base_uri": "https://localhost:8080/"
        },
        "id": "wfXR_WnWXL-y",
        "outputId": "e999684f-9950-40ca-ab24-52d01cf14341"
      },
      "execution_count": null,
      "outputs": [
        {
          "output_type": "stream",
          "name": "stdout",
          "text": [
            "Gender    Interval  F  M\n",
            "0       [135, 140)  1  0\n",
            "1       [140, 145)  2  1\n",
            "2       [145, 150)  1  0\n",
            "3       [150, 155)  0  0\n",
            "4       [155, 160)  1  0\n",
            "5       [160, 165)  0  1\n",
            "6       [165, 170)  1  2\n",
            "7       [170, 175)  0  1\n"
          ]
        },
        {
          "output_type": "stream",
          "name": "stderr",
          "text": [
            "<ipython-input-12-fa942335c11e>:29: FutureWarning: The default of observed=False is deprecated and will be changed to True in a future version of pandas. Pass observed=False to retain current behavior or observed=True to adopt the future default and silence this warning.\n",
            "  grouped_df = dataframe.groupby(['Interval', 'Gender']).size().unstack().reset_index()\n"
          ]
        }
      ]
    },
    {
      "cell_type": "code",
      "source": [
        "# Маючи таблицю розподілу частот, можемо визначити, чи є цей розподіл нормальним. Побудуємо розподіл.\n",
        "# Для перевірки того, чи вказаний розподіл (заданий інтервалами та частотами) є нормальним, ви можете використовувати статистичні тести або графічні методи.\n",
        "# Одним із засобів для графічної оцінки є квантиль-квантиль (Q-Q) графік.\n",
        "# Ось приклад, як ви можете використовувати Q-Q графік для перевірки нормальності.\n",
        "    # Цей код використовує stats.probplot для побудови Q-Q графіку. Якщо точки на графіку лежать приблизно на прямій лінії, то розподіл вважається приблизно нормальним. Якщо вони відхиляються від лінії, це може вказувати на ненормальний розподіл.\n",
        "    # Також використовуються статистичні тести на нормальність, такі як тест Шапіро-Уілка. Якщо p-value менше за визначений вами рівень значущості (зазвичай 0.05), то можна відхилити нульову гіпотезу про нормальність розподілу.\n",
        "\n",
        "import pandas as pd\n",
        "import scipy.stats as stats\n",
        "import numpy as np\n",
        "import matplotlib.pyplot as plt\n",
        "\n",
        "\n",
        "data_f = result_df[['Interval', 'F']]\n",
        "\n",
        "df_f = pd.DataFrame(data_f)\n",
        "\n",
        "\n",
        "# Побудова графіку інтервального розподілу частот\n",
        "plt.figure(figsize=(8, 6))\n",
        "plt.bar(range(len(df_f)), df_f['F'], tick_label=df_f['Interval'].astype(str))\n",
        "plt.title('Інтервальний розподіл частот')\n",
        "plt.xlabel('Інтервали')\n",
        "plt.ylabel('Частоти')\n",
        "plt.grid(axis='y', linestyle='--', alpha=0.7)\n",
        "\n",
        "# Побудова Q-Q графіку\n",
        "plt.figure(figsize=(8, 6))\n",
        "stats.probplot(df_f['F'], dist=\"norm\", plot=plt)\n",
        "plt.title('Q-Q графік')\n",
        "plt.show()\n",
        "\n",
        "# Перевірка нормальності тестом Шапіро-Уілка\n",
        "stat, p_value = stats.shapiro(df_f['F'])\n",
        "print(f'Shapiro-Wilk test statistic: {stat}, p-value: {p_value}')\n",
        "\n",
        "# Визначення рівня значущості\n",
        "alpha = 0.05\n",
        "\n",
        "# Перевірка гіпотези про нормальність\n",
        "if p_value > alpha:\n",
        "    print(\"Розподіл є нормальним (не відхиляється від нормального)\")\n",
        "else:\n",
        "    print(\"Розподіл не є нормальним (відхиляється від нормального)\")"
      ],
      "metadata": {
        "colab": {
          "base_uri": "https://localhost:8080/",
          "height": 1000
        },
        "id": "7lhMCIHjXL76",
        "outputId": "00375586-b34e-498f-e7d5-a43aa7e43381"
      },
      "execution_count": null,
      "outputs": [
        {
          "output_type": "display_data",
          "data": {
            "text/plain": [
              "<Figure size 800x600 with 1 Axes>"
            ],
            "image/png": "[encoded data removed]"
          },
          "metadata": {}
        },
        {
          "output_type": "display_data",
          "data": {
            "text/plain": [
              "<Figure size 800x600 with 1 Axes>"
            ],
            "image/png": "[encoded data removed]"
          },
          "metadata": {}
        },
        {
          "output_type": "stream",
          "name": "stdout",
          "text": [
            "Shapiro-Wilk test statistic: 0.8272053059057407, p-value: 0.05551858960057497\n",
            "Розподіл є нормальним (не відхиляється від нормального)\n"
          ]
        }
      ]
    },
    {
      "cell_type": "code",
      "source": [
        "import pandas as pd\n",
        "import scipy.stats as stats\n",
        "import numpy as np\n",
        "import matplotlib.pyplot as plt\n",
        "\n",
        "df_m = result_df[['Interval', 'M']]\n",
        "\n",
        "\n",
        "# Побудова графіку інтервального розподілу частот\n",
        "plt.figure(figsize=(8, 6))\n",
        "plt.bar(range(len(df_m)), df_m['M'], tick_label=df_m['Interval'].astype(str))\n",
        "plt.title('Інтервальний розподіл частот')\n",
        "plt.xlabel('Interval')\n",
        "plt.ylabel('M')\n",
        "plt.grid(axis='y', linestyle='--', alpha=0.7)\n",
        "\n",
        "# Побудова Q-Q графіку\n",
        "plt.figure(figsize=(8, 6))\n",
        "stats.probplot(df_m['M'], dist=\"norm\", plot=plt)\n",
        "plt.title('Q-Q графік')\n",
        "plt.show()\n",
        "\n",
        "# Перевірка нормальності тестом Шапіро-Уілка\n",
        "stat, p_value = stats.shapiro(df_m['M'])\n",
        "print(f'Shapiro-Wilk test statistic: {stat}, p-value: {p_value}')\n",
        "\n",
        "# Визначення рівня значущості\n",
        "alpha = 0.05\n",
        "\n",
        "# Перевірка гіпотези про нормальність\n",
        "if p_value > alpha:\n",
        "    print(\"Розподіл є нормальним (не відхиляється від нормального)\")\n",
        "else:\n",
        "    print(\"Розподіл не є нормальним (відхиляється від нормального)\")"
      ],
      "metadata": {
        "colab": {
          "base_uri": "https://localhost:8080/",
          "height": 1000
        },
        "id": "r1P53xRVYs7z",
        "outputId": "aa08d2df-7ecf-4703-cb97-2e9c19c921de"
      },
      "execution_count": null,
      "outputs": [
        {
          "output_type": "display_data",
          "data": {
            "text/plain": [
              "<Figure size 800x600 with 1 Axes>"
            ],
            "image/png": "[encoded data removed]"
          },
          "metadata": {}
        },
        {
          "output_type": "display_data",
          "data": {
            "text/plain": [
              "<Figure size 800x600 with 1 Axes>"
            ],
            "image/png": "[encoded data removed]"
          },
          "metadata": {}
        },
        {
          "output_type": "stream",
          "name": "stdout",
          "text": [
            "Shapiro-Wilk test statistic: 0.7975818786389663, p-value: 0.026967769188913627\n",
            "Розподіл не є нормальним (відхиляється від нормального)\n"
          ]
        }
      ]
    },
    {
      "cell_type": "code",
      "source": [
        "df[df['Gender']==\"F\"].Height"
      ],
      "metadata": {
        "colab": {
          "base_uri": "https://localhost:8080/",
          "height": 272
        },
        "id": "B150RhAFMhaO",
        "outputId": "9198f37d-79a4-499f-eff9-a5ffc0cf8108"
      },
      "execution_count": null,
      "outputs": [
        {
          "output_type": "execute_result",
          "data": {
            "text/plain": [
              "0    140\n",
              "1    145\n",
              "2    135\n",
              "4    165\n",
              "7    141\n",
              "8    159\n",
              "Name: Height, dtype: int64"
            ],
            "text/html": [
              "<div>\n",
              "<style scoped>\n",
              "    .dataframe tbody tr th:only-of-type {\n",
              "        vertical-align: middle;\n",
              "    }\n",
              "\n",
              "    .dataframe tbody tr th {\n",
              "        vertical-align: top;\n",
              "    }\n",
              "\n",
              "    .dataframe thead th {\n",
              "        text-align: right;\n",
              "    }\n",
              "</style>\n",
              "<table border=\"1\" class=\"dataframe\">\n",
              "  <thead>\n",
              "    <tr style=\"text-align: right;\">\n",
              "      <th></th>\n",
              "      <th>Height</th>\n",
              "    </tr>\n",
              "  </thead>\n",
              "  <tbody>\n",
              "    <tr>\n",
              "      <th>0</th>\n",
              "      <td>140</td>\n",
              "    </tr>\n",
              "    <tr>\n",
              "      <th>1</th>\n",
              "      <td>145</td>\n",
              "    </tr>\n",
              "    <tr>\n",
              "      <th>2</th>\n",
              "      <td>135</td>\n",
              "    </tr>\n",
              "    <tr>\n",
              "      <th>4</th>\n",
              "      <td>165</td>\n",
              "    </tr>\n",
              "    <tr>\n",
              "      <th>7</th>\n",
              "      <td>141</td>\n",
              "    </tr>\n",
              "    <tr>\n",
              "      <th>8</th>\n",
              "      <td>159</td>\n",
              "    </tr>\n",
              "  </tbody>\n",
              "</table>\n",
              "</div><br><label><b>dtype:</b> int64</label>"
            ]
          },
          "metadata": {},
          "execution_count": 7
        }
      ]
    },
    {
      "cell_type": "code",
      "source": [
        "# Тепер давайте обчислимо середнє значення та дисперсію для двох класів.\n",
        "    # Для класу Female:\n",
        "df[df['Gender']=='F']['Height'].std()"
      ],
      "metadata": {
        "colab": {
          "base_uri": "https://localhost:8080/"
        },
        "id": "PVMpc6eZV6kz",
        "outputId": "9af3c853-80f5-4192-856c-6aa77d4ede39"
      },
      "execution_count": null,
      "outputs": [
        {
          "output_type": "execute_result",
          "data": {
            "text/plain": [
              "11.827933040053955"
            ]
          },
          "metadata": {},
          "execution_count": 9
        }
      ]
    },
    {
      "cell_type": "code",
      "source": [
        "    # Для класу Male:\n",
        "df[df['Gender']=='M']['Height'].std()"
      ],
      "metadata": {
        "colab": {
          "base_uri": "https://localhost:8080/"
        },
        "id": "lDz3w4h1WI6s",
        "outputId": "4f3387a1-aef8-403d-8e10-2d809f6d77c9"
      },
      "execution_count": null,
      "outputs": [
        {
          "output_type": "execute_result",
          "data": {
            "text/plain": [
              "12.132600710482482"
            ]
          },
          "metadata": {},
          "execution_count": 10
        }
      ]
    },
    {
      "cell_type": "code",
      "source": [
        "# Дисперсія змінної, що розглядається, майже однакова в обох класах, отже, виконується друге припущення LDA.\n",
        "\n",
        "# Розглянемо далі кроки лінійного дискримінантного аналізу, де наша основна увага буде зосереджена на навчанні моделі на основі наведених вище даних, щоб ми могли передбачити стать іншої людини, враховуючи його/її зріст і інформацію яклї немає в таблиці вище.\n",
        "# Іншими словами, ви повинні вміти відповісти на питання, якої статі є людина, зріст якої 152 см.\n",
        "\n",
        "# LDA значною мірою покладається на теорему Байєса, наведемо її у вигляді:\n",
        "\n",
        "# P(gender=male) можна легко обчислити як кількість елементів у чоловічому класі в наборі навчальних даних, поділену на загальну кількість елементів:\n",
        "P_m = len(df[df['Gender']=='M'])/len(df)\n",
        "print(P_m)\n",
        "#Так само отримаємо P(gender=female) як кількість елементів у жіночому класі в наборі навчальних даних, поділену на загальну кількість елементів:\n",
        "P_f = len(df[df['Gender']=='F'])/len(df)\n",
        "print(P_f)\n",
        "\n"
      ],
      "metadata": {
        "colab": {
          "base_uri": "https://localhost:8080/"
        },
        "id": "tvwGg5TVZZ3W",
        "outputId": "e60207f1-d063-4bda-8138-ee542608995b"
      },
      "execution_count": null,
      "outputs": [
        {
          "output_type": "stream",
          "name": "stdout",
          "text": [
            "0.45454545454545453\n",
            "0.5454545454545454\n"
          ]
        }
      ]
    },
    {
      "cell_type": "code",
      "source": [
        "# Після цього необхідно обчислити умовні імовірності, однак, це буде зроблено за допомогою нормального розподілу. Саме тут нам знадобиться перше прирущення LDA.\n",
        "# Раніше ми обчислили середнє та дисперсію для кожного класа. Підставимо їх та отримаємо значення розподілу в точці, що нас цікавить\n",
        "\n",
        "import math\n",
        "std_m = df[df['Gender']=='M']['Height'].std()\n",
        "sigma_m = std_m**2\n",
        "mu_m = df[df['Gender']=='M']['Height'].mean()\n",
        "\n",
        "\n",
        "std_f = df[df['Gender']=='F']['Height'].std()\n",
        "sigma_f = std_f**2\n",
        "mu_f = df[df['Gender']=='F']['Height'].mean()\n",
        "\n",
        "\n",
        "def norm_distr(x, mu, sigma):\n",
        "    return 1 / (sigma * math.sqrt(2 * math.pi)) * math.exp(-0.5 * ((x - mu) / sigma) ** 2)\n",
        "\n",
        "\n",
        "P_h_m = norm_distr(152, mu_m, sigma_m)\n",
        "print(P_h_m, \"Це і є значення умовної імовірності P(height=152∣gender=male).\")\n",
        "P_h_f = norm_distr(152, mu_f, sigma_f)\n",
        "print(P_h_f, \"Це і є значення умовної імовірності P(height=152∣gender=female).\")"
      ],
      "metadata": {
        "colab": {
          "base_uri": "https://localhost:8080/"
        },
        "id": "36Q-HAOLbKUY",
        "outputId": "16a7766f-9413-4240-cfcb-69610d59a559"
      },
      "execution_count": null,
      "outputs": [
        {
          "output_type": "stream",
          "name": "stdout",
          "text": [
            "0.00270370687048309 Це і є значення умовної імовірності P(height=152∣gender=male).\n",
            "0.0028501497698038307 Це і є значення умовної імовірності P(height=152∣gender=female).\n"
          ]
        }
      ]
    },
    {
      "cell_type": "code",
      "source": [
        "# Далі, підставляємо отримані значення у формулу\n",
        "\n",
        "# P(gender=male∣height=152) = P(height=152∣gender=male)⋅P(gender=male)+P(height=152∣gender=female)⋅P(gender=female) / P(height=152∣gender=male)⋅P(gender=male)\n",
        "P_m_h = P_h_m*P_m/(P_h_m*P_m+P_h_f*P_f)\n",
        "print(P_m_h)\n",
        "\n",
        "# P(gender=female∣height=152) = P(height=152∣gender=female)⋅P(gender=female)+P(height=152∣gender=male)⋅P(gender=male) / P(height=152∣gender=female)⋅P(gender=female)\n",
        "P_f_h = P_h_f*P_f/(P_h_f*P_f+P_h_m*P_m)\n",
        "print(P_f_h)"
      ],
      "metadata": {
        "colab": {
          "base_uri": "https://localhost:8080/"
        },
        "id": "xEMtY3Nhbrxc",
        "outputId": "adfe7ae2-3bbd-4e13-b751-e18d570c0bd8"
      },
      "execution_count": null,
      "outputs": [
        {
          "output_type": "stream",
          "name": "stdout",
          "text": [
            "0.44150178630393755\n",
            "0.5584982136960625\n"
          ]
        }
      ]
    },
    {
      "cell_type": "code",
      "source": [
        "# Тепер, оскільки очевидно, що P(стать=чоловік∣зріст=152) менший, ніж  P(стать=жінка∣зріст=152), ми можемо класифікувати зріст 152 см до жіночого класу.\n",
        "\n",
        "# Давайте зробимо ще кілька розрахунків, щоб підтвердити іншу думку. Якою буде ймовірність зросту 156 см? Підставте значення у вищенаведені рівняння, і ви побачите, що ймовірності для жіночого та чоловічого класів майже однакові (0,5).\n",
        "# Це те значення зросту, яке діє як поріг. Усі значення вищі 156 см будуть класифіковані як чоловіки, а ті, що нижче, будуть класифіковані як жінки.\n",
        "P_h_m = norm_distr(156, mu_m, sigma_m)\n",
        "print(P_h_m)\n",
        "\n",
        "P_h_f = norm_distr(156, mu_f, sigma_f)\n",
        "print(P_h_f)\n",
        "\n",
        "P_m_h = P_h_m*P_m/(P_h_m*P_m+P_h_f*P_f)\n",
        "print(P_m_h)\n",
        "\n",
        "P_f_h = P_h_f*P_f/(P_h_f*P_f+P_h_m*P_m)\n",
        "print(P_f_h)"
      ],
      "metadata": {
        "colab": {
          "base_uri": "https://localhost:8080/"
        },
        "id": "-L5bU752cjwo",
        "outputId": "cf3a76d6-cbcc-4008-bcdf-8881705585b9"
      },
      "execution_count": null,
      "outputs": [
        {
          "output_type": "stream",
          "name": "stdout",
          "text": [
            "0.002707802744402084\n",
            "0.002846366065678869\n",
            "0.44220272424162493\n",
            "0.557797275758375\n"
          ]
        }
      ]
    },
    {
      "cell_type": "code",
      "source": [
        "from scipy.stats import shapiro\n",
        "\n",
        "stat, p = shapiro(df[df['Gender']==\"F\"].Height)\n",
        "print('Statistics=%.3f, p=%.3f' % (stat, p))\n",
        "# interpret\n",
        "alpha = 0.05\n",
        "if p > alpha:\n",
        " print('Sample looks Gaussian (fail to reject H0)')\n",
        "else:\n",
        " print('Sample does not look Gaussian (reject H0)')"
      ],
      "metadata": {
        "colab": {
          "base_uri": "https://localhost:8080/"
        },
        "id": "GYGmUvj2MS99",
        "outputId": "11151b44-5482-4bcf-dc57-89d22782009a"
      },
      "execution_count": null,
      "outputs": [
        {
          "output_type": "stream",
          "name": "stdout",
          "text": [
            "Statistics=0.892, p=0.328\n",
            "Sample looks Gaussian (fail to reject H0)\n"
          ]
        }
      ]
    },
    {
      "cell_type": "code",
      "source": [
        "# Використання бібліотеки Sklearn\n",
        "\n",
        "from sklearn.discriminant_analysis import LinearDiscriminantAnalysis\n",
        "\n",
        "height = np.array(df['Height'])\n",
        "gender = np.array(df['Gender'])\n",
        "\n",
        "lda = LinearDiscriminantAnalysis()\n",
        "lda.fit(height.reshape(-1,1), gender)\n",
        "x = np.array([152])\n",
        "\n",
        "lda.predict_proba(x.reshape(-1,1))\n",
        "print(lda.predict_proba(x.reshape(-1,1)))\n",
        "lda.predict(x.reshape(-1,1))\n",
        "print(lda.predict(x.reshape(-1,1)))"
      ],
      "metadata": {
        "colab": {
          "base_uri": "https://localhost:8080/"
        },
        "id": "R6qlFnx0dbDf",
        "outputId": "6c5f716f-9a5d-44ed-d906-3fcb31399520"
      },
      "execution_count": null,
      "outputs": [
        {
          "output_type": "stream",
          "name": "stdout",
          "text": [
            "[[0.61656602 0.38343398]]\n",
            "['F']\n"
          ]
        }
      ]
    },
    {
      "cell_type": "markdown",
      "source": [
        "Кроки навчання моделі LDA:\n",
        "\n",
        "1. Обчисліть середнє значення змінної для кожного класу.\n",
        "\n",
        "2. Обчисліть дисперсію змінної для кожного класу.\n",
        "\n",
        "3. Обчисліть ймовірність кожного класу (априорну ймовірність).\n",
        "\n",
        "4. Використовуйте значення середнього значення, дисперсії та попередньої ймовірності для розробки остаточної моделі, припускаючи нормальний розподіл змінної в кожному класі.\n",
        "\n",
        "Отже, в лінійному дискримінантному аналізі, припущення про нормальність розподілу змінних та про однаковість дисперсій грають ключову роль в досягненні статистичної ефективності та точності результатів. Давайте розглянемо, як ці припущення використовуються в контексті розглянутого алгоритма:\n",
        "\n",
        "1. Припущення про нормальність розподілу змінних.\n",
        "\n",
        "  LDA передбачає, що змінні в кожній групі мають нормальний розподіл. Це дозволяє використовувати параметри розподілу (середнє і коваріаційну матрицю) для ефективного визначення границі між групами.\n",
        "Нормальність розподілу також спрощує обчислення апостеріорних ймовірностей та інших статистичних параметрів.\n",
        "2. Припущення про однаковість дисперсій (гомоскедастичність).\n",
        "\n",
        "  LDA передбачає, що дисперсії змінних в різних групах є однаковими (гомоскедастичність). Це важливо для ефективного розділення групових середніх та побудови оптимальної лінійної комбінації змінних.\n",
        "Якщо дисперсії відрізняються, можуть виникнути проблеми з нерівноцінністю змінних у визначенні границь між групами.\n",
        "\n",
        "\n",
        "Ці припущення роблять LDA ефективним та точним у тих випадках, коли вони виконуються. Однак в реальних даних можуть виникнути ситуації, коли ці припущення порушуються. Наприклад, якщо розподіл змінних не є точно нормальним, або якщо дисперсії в групах відрізняються.\n",
        "\n",
        "\n",
        "\n",
        "У випадку порушення припущень, алгоритм може втратити ефективність, і можуть бути розглянуті альтернативні методи, які будуть вивчатися в курсі з машинного навчання."
      ],
      "metadata": {
        "id": "h6Z4KSxOeNVN"
      }
    },
    {
      "cell_type": "code",
      "source": [
        "stat, p = shapiro(df[df['Gender']==\"M\"].Height)\n",
        "print('Statistics=%.3f, p=%.3f' % (stat, p))\n",
        "# interpret\n",
        "alpha = 0.05\n",
        "if p > alpha:\n",
        " print('Sample looks Gaussian (fail to reject H0)')\n",
        "else:\n",
        " print('Sample does not look Gaussian (reject H0)')"
      ],
      "metadata": {
        "colab": {
          "base_uri": "https://localhost:8080/"
        },
        "id": "plszzWq9M6qo",
        "outputId": "8ba2d3ab-6698-4dc2-9acf-565d4eb86c97"
      },
      "execution_count": null,
      "outputs": [
        {
          "output_type": "stream",
          "name": "stdout",
          "text": [
            "Statistics=0.830, p=0.140\n",
            "Sample looks Gaussian (fail to reject H0)\n"
          ]
        }
      ]
    },
    {
      "cell_type": "code",
      "source": [
        "def create_interval_dataframe(dataframe, step):\n",
        "    \"\"\"\n",
        "    Перетворює датафрейм з ростом і статтю в інтервальний датафрейм.\n",
        "\n",
        "    Параметри:\n",
        "    - dataframe: pd.DataFrame, вихідний датафрейм зі стовпцями 'Зріст' і 'Стать'.\n",
        "    - step: int, крок для побудови інтервалів.\n",
        "\n",
        "    Повертає:\n",
        "    - pd.DataFrame, інтервальний датафрейм зі стовпцями 'Інтервал', 'Чоловіки', 'Жінки'.\n",
        "    \"\"\"\n",
        "    # Розрахунок мінімального та максимального зросту\n",
        "    min_height = dataframe['Height'].min()\n",
        "    max_height = dataframe['Height'].max()\n",
        "\n",
        "    # Створення категорій для інтервалів\n",
        "    categories = pd.cut(dataframe['Height'], bins=np.arange(min_height, max_height + step, step), right=False)\n",
        "\n",
        "    # Додавання нового стовпця 'Інтервал'\n",
        "    dataframe['Interval'] = categories\n",
        "\n",
        "    # Сортування індексів\n",
        "    dataframe = dataframe.sort_values(by='Interval')\n",
        "\n",
        "    # Групування за інтервалами та статтю, підрахунок частот\n",
        "    grouped_df = dataframe.groupby(['Interval', 'Gender']).size().unstack().reset_index()\n",
        "\n",
        "    return grouped_df\n",
        "\n",
        "# Приклад використання:\n",
        "# Визначення кроку\n",
        "step = 3\n",
        "\n",
        "result_df = create_interval_dataframe(df, step)\n",
        "\n",
        "print(result_df)\n"
      ],
      "metadata": {
        "colab": {
          "base_uri": "https://localhost:8080/"
        },
        "id": "PtPbjjqFHsj3",
        "outputId": "45dca7f3-7e41-42e4-8f7c-f7fec4cb26dc"
      },
      "execution_count": null,
      "outputs": [
        {
          "output_type": "stream",
          "name": "stdout",
          "text": [
            "Gender    Interval  F  M\n",
            "0       [135, 138)  1  0\n",
            "1       [138, 141)  1  0\n",
            "2       [141, 144)  1  1\n",
            "3       [144, 147)  1  0\n",
            "4       [147, 150)  0  0\n",
            "5       [150, 153)  0  0\n",
            "6       [153, 156)  0  0\n",
            "7       [156, 159)  0  0\n",
            "8       [159, 162)  1  1\n",
            "9       [162, 165)  0  0\n",
            "10      [165, 168)  1  0\n",
            "11      [168, 171)  0  2\n",
            "12      [171, 174)  0  1\n"
          ]
        },
        {
          "output_type": "stream",
          "name": "stderr",
          "text": [
            "<ipython-input-7-17689e5e7bd2>:26: FutureWarning: The default of observed=False is deprecated and will be changed to True in a future version of pandas. Pass observed=False to retain current behavior or observed=True to adopt the future default and silence this warning.\n",
            "  grouped_df = dataframe.groupby(['Interval', 'Gender']).size().unstack().reset_index()\n"
          ]
        }
      ]
    },
    {
      "cell_type": "code",
      "source": [
        "df_f = df.loc[df['Gender'] == 'F']\n",
        "df_f"
      ],
      "metadata": {
        "colab": {
          "base_uri": "https://localhost:8080/",
          "height": 238
        },
        "id": "xK1rGjvosvmt",
        "outputId": "ce8e3d95-0193-4616-ffc8-22acaa0976e1"
      },
      "execution_count": null,
      "outputs": [
        {
          "output_type": "execute_result",
          "data": {
            "text/plain": [
              "   Height Gender    Interval\n",
              "0     140      F  [138, 141)\n",
              "1     145      F  [144, 147)\n",
              "2     135      F  [135, 138)\n",
              "4     165      F  [165, 168)\n",
              "7     141      F  [141, 144)\n",
              "8     159      F  [159, 162)"
            ],
            "text/html": [
              "\n",
              "  <div id=\"df-34fada9c-bce6-4d51-a986-b8c54fc14cfe\" class=\"colab-df-container\">\n",
              "    <div>\n",
              "<style scoped>\n",
              "    .dataframe tbody tr th:only-of-type {\n",
              "        vertical-align: middle;\n",
              "    }\n",
              "\n",
              "    .dataframe tbody tr th {\n",
              "        vertical-align: top;\n",
              "    }\n",
              "\n",
              "    .dataframe thead th {\n",
              "        text-align: right;\n",
              "    }\n",
              "</style>\n",
              "<table border=\"1\" class=\"dataframe\">\n",
              "  <thead>\n",
              "    <tr style=\"text-align: right;\">\n",
              "      <th></th>\n",
              "      <th>Height</th>\n",
              "      <th>Gender</th>\n",
              "      <th>Interval</th>\n",
              "    </tr>\n",
              "  </thead>\n",
              "  <tbody>\n",
              "    <tr>\n",
              "      <th>0</th>\n",
              "      <td>140</td>\n",
              "      <td>F</td>\n",
              "      <td>[138, 141)</td>\n",
              "    </tr>\n",
              "    <tr>\n",
              "      <th>1</th>\n",
              "      <td>145</td>\n",
              "      <td>F</td>\n",
              "      <td>[144, 147)</td>\n",
              "    </tr>\n",
              "    <tr>\n",
              "      <th>2</th>\n",
              "      <td>135</td>\n",
              "      <td>F</td>\n",
              "      <td>[135, 138)</td>\n",
              "    </tr>\n",
              "    <tr>\n",
              "      <th>4</th>\n",
              "      <td>165</td>\n",
              "      <td>F</td>\n",
              "      <td>[165, 168)</td>\n",
              "    </tr>\n",
              "    <tr>\n",
              "      <th>7</th>\n",
              "      <td>141</td>\n",
              "      <td>F</td>\n",
              "      <td>[141, 144)</td>\n",
              "    </tr>\n",
              "    <tr>\n",
              "      <th>8</th>\n",
              "      <td>159</td>\n",
              "      <td>F</td>\n",
              "      <td>[159, 162)</td>\n",
              "    </tr>\n",
              "  </tbody>\n",
              "</table>\n",
              "</div>\n",
              "    <div class=\"colab-df-buttons\">\n",
              "\n",
              "  <div class=\"colab-df-container\">\n",
              "    <button class=\"colab-df-convert\" onclick=\"convertToInteractive('df-34fada9c-bce6-4d51-a986-b8c54fc14cfe')\"\n",
              "            title=\"Convert this dataframe to an interactive table.\"\n",
              "            style=\"display:none;\">\n",
              "\n",
              "  <svg xmlns=\"http://www.w3.org/2000/svg\" height=\"24px\" viewBox=\"0 -960 960 960\">\n",
              "    <path d=\"M120-120v-720h720v720H120Zm60-500h600v-160H180v160Zm220 220h160v-160H400v160Zm0 220h160v-160H400v160ZM180-400h160v-160H180v160Zm440 0h160v-160H620v160ZM180-180h160v-160H180v160Zm440 0h160v-160H620v160Z\"/>\n",
              "  </svg>\n",
              "    </button>\n",
              "\n",
              "  <style>\n",
              "    .colab-df-container {\n",
              "      display:flex;\n",
              "      gap: 12px;\n",
              "    }\n",
              "\n",
              "    .colab-df-convert {\n",
              "      background-color: #E8F0FE;\n",
              "      border: none;\n",
              "      border-radius: 50%;\n",
              "      cursor: pointer;\n",
              "      display: none;\n",
              "      fill: #1967D2;\n",
              "      height: 32px;\n",
              "      padding: 0 0 0 0;\n",
              "      width: 32px;\n",
              "    }\n",
              "\n",
              "    .colab-df-convert:hover {\n",
              "      background-color: #E2EBFA;\n",
              "      box-shadow: 0px 1px 2px rgba(60, 64, 67, 0.3), 0px 1px 3px 1px rgba(60, 64, 67, 0.15);\n",
              "      fill: #174EA6;\n",
              "    }\n",
              "\n",
              "    .colab-df-buttons div {\n",
              "      margin-bottom: 4px;\n",
              "    }\n",
              "\n",
              "    [theme=dark] .colab-df-convert {\n",
              "      background-color: #3B4455;\n",
              "      fill: #D2E3FC;\n",
              "    }\n",
              "\n",
              "    [theme=dark] .colab-df-convert:hover {\n",
              "      background-color: #434B5C;\n",
              "      box-shadow: 0px 1px 3px 1px rgba(0, 0, 0, 0.15);\n",
              "      filter: drop-shadow(0px 1px 2px rgba(0, 0, 0, 0.3));\n",
              "      fill: #FFFFFF;\n",
              "    }\n",
              "  </style>\n",
              "\n",
              "    <script>\n",
              "      const buttonEl =\n",
              "        document.querySelector('#df-34fada9c-bce6-4d51-a986-b8c54fc14cfe button.colab-df-convert');\n",
              "      buttonEl.style.display =\n",
              "        google.colab.kernel.accessAllowed ? 'block' : 'none';\n",
              "\n",
              "      async function convertToInteractive(key) {\n",
              "        const element = document.querySelector('#df-34fada9c-bce6-4d51-a986-b8c54fc14cfe');\n",
              "        const dataTable =\n",
              "          await google.colab.kernel.invokeFunction('convertToInteractive',\n",
              "                                                    [key], {});\n",
              "        if (!dataTable) return;\n",
              "\n",
              "        const docLinkHtml = 'Like what you see? Visit the ' +\n",
              "          '<a target=\"_blank\" href=https://colab.research.google.com/notebooks/data_table.ipynb>data table notebook</a>'\n",
              "          + ' to learn more about interactive tables.';\n",
              "        element.innerHTML = '';\n",
              "        dataTable['output_type'] = 'display_data';\n",
              "        await google.colab.output.renderOutput(dataTable, element);\n",
              "        const docLink = document.createElement('div');\n",
              "        docLink.innerHTML = docLinkHtml;\n",
              "        element.appendChild(docLink);\n",
              "      }\n",
              "    </script>\n",
              "  </div>\n",
              "\n",
              "\n",
              "<div id=\"df-98493b33-48ee-499b-8a3c-e596c1fcead3\">\n",
              "  <button class=\"colab-df-quickchart\" onclick=\"quickchart('df-98493b33-48ee-499b-8a3c-e596c1fcead3')\"\n",
              "            title=\"Suggest charts\"\n",
              "            style=\"display:none;\">\n",
              "\n",
              "<svg xmlns=\"http://www.w3.org/2000/svg\" height=\"24px\"viewBox=\"0 0 24 24\"\n",
              "     width=\"24px\">\n",
              "    <g>\n",
              "        <path d=\"M19 3H5c-1.1 0-2 .9-2 2v14c0 1.1.9 2 2 2h14c1.1 0 2-.9 2-2V5c0-1.1-.9-2-2-2zM9 17H7v-7h2v7zm4 0h-2V7h2v10zm4 0h-2v-4h2v4z\"/>\n",
              "    </g>\n",
              "</svg>\n",
              "  </button>\n",
              "\n",
              "<style>\n",
              "  .colab-df-quickchart {\n",
              "      --bg-color: #E8F0FE;\n",
              "      --fill-color: #1967D2;\n",
              "      --hover-bg-color: #E2EBFA;\n",
              "      --hover-fill-color: #174EA6;\n",
              "      --disabled-fill-color: #AAA;\n",
              "      --disabled-bg-color: #DDD;\n",
              "  }\n",
              "\n",
              "  [theme=dark] .colab-df-quickchart {\n",
              "      --bg-color: #3B4455;\n",
              "      --fill-color: #D2E3FC;\n",
              "      --hover-bg-color: #434B5C;\n",
              "      --hover-fill-color: #FFFFFF;\n",
              "      --disabled-bg-color: #3B4455;\n",
              "      --disabled-fill-color: #666;\n",
              "  }\n",
              "\n",
              "  .colab-df-quickchart {\n",
              "    background-color: var(--bg-color);\n",
              "    border: none;\n",
              "    border-radius: 50%;\n",
              "    cursor: pointer;\n",
              "    display: none;\n",
              "    fill: var(--fill-color);\n",
              "    height: 32px;\n",
              "    padding: 0;\n",
              "    width: 32px;\n",
              "  }\n",
              "\n",
              "  .colab-df-quickchart:hover {\n",
              "    background-color: var(--hover-bg-color);\n",
              "    box-shadow: 0 1px 2px rgba(60, 64, 67, 0.3), 0 1px 3px 1px rgba(60, 64, 67, 0.15);\n",
              "    fill: var(--button-hover-fill-color);\n",
              "  }\n",
              "\n",
              "  .colab-df-quickchart-complete:disabled,\n",
              "  .colab-df-quickchart-complete:disabled:hover {\n",
              "    background-color: var(--disabled-bg-color);\n",
              "    fill: var(--disabled-fill-color);\n",
              "    box-shadow: none;\n",
              "  }\n",
              "\n",
              "  .colab-df-spinner {\n",
              "    border: 2px solid var(--fill-color);\n",
              "    border-color: transparent;\n",
              "    border-bottom-color: var(--fill-color);\n",
              "    animation:\n",
              "      spin 1s steps(1) infinite;\n",
              "  }\n",
              "\n",
              "  @keyframes spin {\n",
              "    0% {\n",
              "      border-color: transparent;\n",
              "      border-bottom-color: var(--fill-color);\n",
              "      border-left-color: var(--fill-color);\n",
              "    }\n",
              "    20% {\n",
              "      border-color: transparent;\n",
              "      border-left-color: var(--fill-color);\n",
              "      border-top-color: var(--fill-color);\n",
              "    }\n",
              "    30% {\n",
              "      border-color: transparent;\n",
              "      border-left-color: var(--fill-color);\n",
              "      border-top-color: var(--fill-color);\n",
              "      border-right-color: var(--fill-color);\n",
              "    }\n",
              "    40% {\n",
              "      border-color: transparent;\n",
              "      border-right-color: var(--fill-color);\n",
              "      border-top-color: var(--fill-color);\n",
              "    }\n",
              "    60% {\n",
              "      border-color: transparent;\n",
              "      border-right-color: var(--fill-color);\n",
              "    }\n",
              "    80% {\n",
              "      border-color: transparent;\n",
              "      border-right-color: var(--fill-color);\n",
              "      border-bottom-color: var(--fill-color);\n",
              "    }\n",
              "    90% {\n",
              "      border-color: transparent;\n",
              "      border-bottom-color: var(--fill-color);\n",
              "    }\n",
              "  }\n",
              "</style>\n",
              "\n",
              "  <script>\n",
              "    async function quickchart(key) {\n",
              "      const quickchartButtonEl =\n",
              "        document.querySelector('#' + key + ' button');\n",
              "      quickchartButtonEl.disabled = true;  // To prevent multiple clicks.\n",
              "      quickchartButtonEl.classList.add('colab-df-spinner');\n",
              "      try {\n",
              "        const charts = await google.colab.kernel.invokeFunction(\n",
              "            'suggestCharts', [key], {});\n",
              "      } catch (error) {\n",
              "        console.error('Error during call to suggestCharts:', error);\n",
              "      }\n",
              "      quickchartButtonEl.classList.remove('colab-df-spinner');\n",
              "      quickchartButtonEl.classList.add('colab-df-quickchart-complete');\n",
              "    }\n",
              "    (() => {\n",
              "      let quickchartButtonEl =\n",
              "        document.querySelector('#df-98493b33-48ee-499b-8a3c-e596c1fcead3 button');\n",
              "      quickchartButtonEl.style.display =\n",
              "        google.colab.kernel.accessAllowed ? 'block' : 'none';\n",
              "    })();\n",
              "  </script>\n",
              "</div>\n",
              "\n",
              "  <div id=\"id_49d26f3b-c3e5-4383-97c7-446cd92bbe64\">\n",
              "    <style>\n",
              "      .colab-df-generate {\n",
              "        background-color: #E8F0FE;\n",
              "        border: none;\n",
              "        border-radius: 50%;\n",
              "        cursor: pointer;\n",
              "        display: none;\n",
              "        fill: #1967D2;\n",
              "        height: 32px;\n",
              "        padding: 0 0 0 0;\n",
              "        width: 32px;\n",
              "      }\n",
              "\n",
              "      .colab-df-generate:hover {\n",
              "        background-color: #E2EBFA;\n",
              "        box-shadow: 0px 1px 2px rgba(60, 64, 67, 0.3), 0px 1px 3px 1px rgba(60, 64, 67, 0.15);\n",
              "        fill: #174EA6;\n",
              "      }\n",
              "\n",
              "      [theme=dark] .colab-df-generate {\n",
              "        background-color: #3B4455;\n",
              "        fill: #D2E3FC;\n",
              "      }\n",
              "\n",
              "      [theme=dark] .colab-df-generate:hover {\n",
              "        background-color: #434B5C;\n",
              "        box-shadow: 0px 1px 3px 1px rgba(0, 0, 0, 0.15);\n",
              "        filter: drop-shadow(0px 1px 2px rgba(0, 0, 0, 0.3));\n",
              "        fill: #FFFFFF;\n",
              "      }\n",
              "    </style>\n",
              "    <button class=\"colab-df-generate\" onclick=\"generateWithVariable('df_f')\"\n",
              "            title=\"Generate code using this dataframe.\"\n",
              "            style=\"display:none;\">\n",
              "\n",
              "  <svg xmlns=\"http://www.w3.org/2000/svg\" height=\"24px\"viewBox=\"0 0 24 24\"\n",
              "       width=\"24px\">\n",
              "    <path d=\"M7,19H8.4L18.45,9,17,7.55,7,17.6ZM5,21V16.75L18.45,3.32a2,2,0,0,1,2.83,0l1.4,1.43a1.91,1.91,0,0,1,.58,1.4,1.91,1.91,0,0,1-.58,1.4L9.25,21ZM18.45,9,17,7.55Zm-12,3A5.31,5.31,0,0,0,4.9,8.1,5.31,5.31,0,0,0,1,6.5,5.31,5.31,0,0,0,4.9,4.9,5.31,5.31,0,0,0,6.5,1,5.31,5.31,0,0,0,8.1,4.9,5.31,5.31,0,0,0,12,6.5,5.46,5.46,0,0,0,6.5,12Z\"/>\n",
              "  </svg>\n",
              "    </button>\n",
              "    <script>\n",
              "      (() => {\n",
              "      const buttonEl =\n",
              "        document.querySelector('#id_49d26f3b-c3e5-4383-97c7-446cd92bbe64 button.colab-df-generate');\n",
              "      buttonEl.style.display =\n",
              "        google.colab.kernel.accessAllowed ? 'block' : 'none';\n",
              "\n",
              "      buttonEl.onclick = () => {\n",
              "        google.colab.notebook.generateWithVariable('df_f');\n",
              "      }\n",
              "      })();\n",
              "    </script>\n",
              "  </div>\n",
              "\n",
              "    </div>\n",
              "  </div>\n"
            ],
            "application/vnd.google.colaboratory.intrinsic+json": {
              "type": "dataframe",
              "variable_name": "df_f",
              "summary": "{\n  \"name\": \"df_f\",\n  \"rows\": 6,\n  \"fields\": [\n    {\n      \"column\": \"Height\",\n      \"properties\": {\n        \"dtype\": \"number\",\n        \"std\": 11,\n        \"min\": 135,\n        \"max\": 165,\n        \"num_unique_values\": 6,\n        \"samples\": [\n          140,\n          145,\n          159\n        ],\n        \"semantic_type\": \"\",\n        \"description\": \"\"\n      }\n    },\n    {\n      \"column\": \"Gender\",\n      \"properties\": {\n        \"dtype\": \"category\",\n        \"num_unique_values\": 1,\n        \"samples\": [\n          \"F\"\n        ],\n        \"semantic_type\": \"\",\n        \"description\": \"\"\n      }\n    },\n    {\n      \"column\": \"Interval\",\n      \"properties\": {\n        \"dtype\": \"category\",\n        \"num_unique_values\": 6,\n        \"samples\": [\n          \"[138, 141)\"\n        ],\n        \"semantic_type\": \"\",\n        \"description\": \"\"\n      }\n    }\n  ]\n}"
            }
          },
          "metadata": {},
          "execution_count": 8
        }
      ]
    },
    {
      "cell_type": "code",
      "source": [
        "df_m = df.loc[df['Gender'] == 'M']\n",
        "df_m"
      ],
      "metadata": {
        "colab": {
          "base_uri": "https://localhost:8080/",
          "height": 206
        },
        "id": "xmosKb6qwDNE",
        "outputId": "48ee6702-ecdb-4493-955b-cdb37f783057"
      },
      "execution_count": null,
      "outputs": [
        {
          "output_type": "execute_result",
          "data": {
            "text/plain": [
              "    Height Gender    Interval\n",
              "3      169      M  [168, 171)\n",
              "5      142      M  [141, 144)\n",
              "6      168      M  [168, 171)\n",
              "9      160      M  [159, 162)\n",
              "10     172      M  [171, 174)"
            ],
            "text/html": [
              "\n",
              "  <div id=\"df-e097eeac-4e87-4338-b587-0295a259bcc9\" class=\"colab-df-container\">\n",
              "    <div>\n",
              "<style scoped>\n",
              "    .dataframe tbody tr th:only-of-type {\n",
              "        vertical-align: middle;\n",
              "    }\n",
              "\n",
              "    .dataframe tbody tr th {\n",
              "        vertical-align: top;\n",
              "    }\n",
              "\n",
              "    .dataframe thead th {\n",
              "        text-align: right;\n",
              "    }\n",
              "</style>\n",
              "<table border=\"1\" class=\"dataframe\">\n",
              "  <thead>\n",
              "    <tr style=\"text-align: right;\">\n",
              "      <th></th>\n",
              "      <th>Height</th>\n",
              "      <th>Gender</th>\n",
              "      <th>Interval</th>\n",
              "    </tr>\n",
              "  </thead>\n",
              "  <tbody>\n",
              "    <tr>\n",
              "      <th>3</th>\n",
              "      <td>169</td>\n",
              "      <td>M</td>\n",
              "      <td>[168, 171)</td>\n",
              "    </tr>\n",
              "    <tr>\n",
              "      <th>5</th>\n",
              "      <td>142</td>\n",
              "      <td>M</td>\n",
              "      <td>[141, 144)</td>\n",
              "    </tr>\n",
              "    <tr>\n",
              "      <th>6</th>\n",
              "      <td>168</td>\n",
              "      <td>M</td>\n",
              "      <td>[168, 171)</td>\n",
              "    </tr>\n",
              "    <tr>\n",
              "      <th>9</th>\n",
              "      <td>160</td>\n",
              "      <td>M</td>\n",
              "      <td>[159, 162)</td>\n",
              "    </tr>\n",
              "    <tr>\n",
              "      <th>10</th>\n",
              "      <td>172</td>\n",
              "      <td>M</td>\n",
              "      <td>[171, 174)</td>\n",
              "    </tr>\n",
              "  </tbody>\n",
              "</table>\n",
              "</div>\n",
              "    <div class=\"colab-df-buttons\">\n",
              "\n",
              "  <div class=\"colab-df-container\">\n",
              "    <button class=\"colab-df-convert\" onclick=\"convertToInteractive('df-e097eeac-4e87-4338-b587-0295a259bcc9')\"\n",
              "            title=\"Convert this dataframe to an interactive table.\"\n",
              "            style=\"display:none;\">\n",
              "\n",
              "  <svg xmlns=\"http://www.w3.org/2000/svg\" height=\"24px\" viewBox=\"0 -960 960 960\">\n",
              "    <path d=\"M120-120v-720h720v720H120Zm60-500h600v-160H180v160Zm220 220h160v-160H400v160Zm0 220h160v-160H400v160ZM180-400h160v-160H180v160Zm440 0h160v-160H620v160ZM180-180h160v-160H180v160Zm440 0h160v-160H620v160Z\"/>\n",
              "  </svg>\n",
              "    </button>\n",
              "\n",
              "  <style>\n",
              "    .colab-df-container {\n",
              "      display:flex;\n",
              "      gap: 12px;\n",
              "    }\n",
              "\n",
              "    .colab-df-convert {\n",
              "      background-color: #E8F0FE;\n",
              "      border: none;\n",
              "      border-radius: 50%;\n",
              "      cursor: pointer;\n",
              "      display: none;\n",
              "      fill: #1967D2;\n",
              "      height: 32px;\n",
              "      padding: 0 0 0 0;\n",
              "      width: 32px;\n",
              "    }\n",
              "\n",
              "    .colab-df-convert:hover {\n",
              "      background-color: #E2EBFA;\n",
              "      box-shadow: 0px 1px 2px rgba(60, 64, 67, 0.3), 0px 1px 3px 1px rgba(60, 64, 67, 0.15);\n",
              "      fill: #174EA6;\n",
              "    }\n",
              "\n",
              "    .colab-df-buttons div {\n",
              "      margin-bottom: 4px;\n",
              "    }\n",
              "\n",
              "    [theme=dark] .colab-df-convert {\n",
              "      background-color: #3B4455;\n",
              "      fill: #D2E3FC;\n",
              "    }\n",
              "\n",
              "    [theme=dark] .colab-df-convert:hover {\n",
              "      background-color: #434B5C;\n",
              "      box-shadow: 0px 1px 3px 1px rgba(0, 0, 0, 0.15);\n",
              "      filter: drop-shadow(0px 1px 2px rgba(0, 0, 0, 0.3));\n",
              "      fill: #FFFFFF;\n",
              "    }\n",
              "  </style>\n",
              "\n",
              "    <script>\n",
              "      const buttonEl =\n",
              "        document.querySelector('#df-e097eeac-4e87-4338-b587-0295a259bcc9 button.colab-df-convert');\n",
              "      buttonEl.style.display =\n",
              "        google.colab.kernel.accessAllowed ? 'block' : 'none';\n",
              "\n",
              "      async function convertToInteractive(key) {\n",
              "        const element = document.querySelector('#df-e097eeac-4e87-4338-b587-0295a259bcc9');\n",
              "        const dataTable =\n",
              "          await google.colab.kernel.invokeFunction('convertToInteractive',\n",
              "                                                    [key], {});\n",
              "        if (!dataTable) return;\n",
              "\n",
              "        const docLinkHtml = 'Like what you see? Visit the ' +\n",
              "          '<a target=\"_blank\" href=https://colab.research.google.com/notebooks/data_table.ipynb>data table notebook</a>'\n",
              "          + ' to learn more about interactive tables.';\n",
              "        element.innerHTML = '';\n",
              "        dataTable['output_type'] = 'display_data';\n",
              "        await google.colab.output.renderOutput(dataTable, element);\n",
              "        const docLink = document.createElement('div');\n",
              "        docLink.innerHTML = docLinkHtml;\n",
              "        element.appendChild(docLink);\n",
              "      }\n",
              "    </script>\n",
              "  </div>\n",
              "\n",
              "\n",
              "<div id=\"df-d12bab9d-d617-4a4e-84fc-44fbf5e5c5be\">\n",
              "  <button class=\"colab-df-quickchart\" onclick=\"quickchart('df-d12bab9d-d617-4a4e-84fc-44fbf5e5c5be')\"\n",
              "            title=\"Suggest charts\"\n",
              "            style=\"display:none;\">\n",
              "\n",
              "<svg xmlns=\"http://www.w3.org/2000/svg\" height=\"24px\"viewBox=\"0 0 24 24\"\n",
              "     width=\"24px\">\n",
              "    <g>\n",
              "        <path d=\"M19 3H5c-1.1 0-2 .9-2 2v14c0 1.1.9 2 2 2h14c1.1 0 2-.9 2-2V5c0-1.1-.9-2-2-2zM9 17H7v-7h2v7zm4 0h-2V7h2v10zm4 0h-2v-4h2v4z\"/>\n",
              "    </g>\n",
              "</svg>\n",
              "  </button>\n",
              "\n",
              "<style>\n",
              "  .colab-df-quickchart {\n",
              "      --bg-color: #E8F0FE;\n",
              "      --fill-color: #1967D2;\n",
              "      --hover-bg-color: #E2EBFA;\n",
              "      --hover-fill-color: #174EA6;\n",
              "      --disabled-fill-color: #AAA;\n",
              "      --disabled-bg-color: #DDD;\n",
              "  }\n",
              "\n",
              "  [theme=dark] .colab-df-quickchart {\n",
              "      --bg-color: #3B4455;\n",
              "      --fill-color: #D2E3FC;\n",
              "      --hover-bg-color: #434B5C;\n",
              "      --hover-fill-color: #FFFFFF;\n",
              "      --disabled-bg-color: #3B4455;\n",
              "      --disabled-fill-color: #666;\n",
              "  }\n",
              "\n",
              "  .colab-df-quickchart {\n",
              "    background-color: var(--bg-color);\n",
              "    border: none;\n",
              "    border-radius: 50%;\n",
              "    cursor: pointer;\n",
              "    display: none;\n",
              "    fill: var(--fill-color);\n",
              "    height: 32px;\n",
              "    padding: 0;\n",
              "    width: 32px;\n",
              "  }\n",
              "\n",
              "  .colab-df-quickchart:hover {\n",
              "    background-color: var(--hover-bg-color);\n",
              "    box-shadow: 0 1px 2px rgba(60, 64, 67, 0.3), 0 1px 3px 1px rgba(60, 64, 67, 0.15);\n",
              "    fill: var(--button-hover-fill-color);\n",
              "  }\n",
              "\n",
              "  .colab-df-quickchart-complete:disabled,\n",
              "  .colab-df-quickchart-complete:disabled:hover {\n",
              "    background-color: var(--disabled-bg-color);\n",
              "    fill: var(--disabled-fill-color);\n",
              "    box-shadow: none;\n",
              "  }\n",
              "\n",
              "  .colab-df-spinner {\n",
              "    border: 2px solid var(--fill-color);\n",
              "    border-color: transparent;\n",
              "    border-bottom-color: var(--fill-color);\n",
              "    animation:\n",
              "      spin 1s steps(1) infinite;\n",
              "  }\n",
              "\n",
              "  @keyframes spin {\n",
              "    0% {\n",
              "      border-color: transparent;\n",
              "      border-bottom-color: var(--fill-color);\n",
              "      border-left-color: var(--fill-color);\n",
              "    }\n",
              "    20% {\n",
              "      border-color: transparent;\n",
              "      border-left-color: var(--fill-color);\n",
              "      border-top-color: var(--fill-color);\n",
              "    }\n",
              "    30% {\n",
              "      border-color: transparent;\n",
              "      border-left-color: var(--fill-color);\n",
              "      border-top-color: var(--fill-color);\n",
              "      border-right-color: var(--fill-color);\n",
              "    }\n",
              "    40% {\n",
              "      border-color: transparent;\n",
              "      border-right-color: var(--fill-color);\n",
              "      border-top-color: var(--fill-color);\n",
              "    }\n",
              "    60% {\n",
              "      border-color: transparent;\n",
              "      border-right-color: var(--fill-color);\n",
              "    }\n",
              "    80% {\n",
              "      border-color: transparent;\n",
              "      border-right-color: var(--fill-color);\n",
              "      border-bottom-color: var(--fill-color);\n",
              "    }\n",
              "    90% {\n",
              "      border-color: transparent;\n",
              "      border-bottom-color: var(--fill-color);\n",
              "    }\n",
              "  }\n",
              "</style>\n",
              "\n",
              "  <script>\n",
              "    async function quickchart(key) {\n",
              "      const quickchartButtonEl =\n",
              "        document.querySelector('#' + key + ' button');\n",
              "      quickchartButtonEl.disabled = true;  // To prevent multiple clicks.\n",
              "      quickchartButtonEl.classList.add('colab-df-spinner');\n",
              "      try {\n",
              "        const charts = await google.colab.kernel.invokeFunction(\n",
              "            'suggestCharts', [key], {});\n",
              "      } catch (error) {\n",
              "        console.error('Error during call to suggestCharts:', error);\n",
              "      }\n",
              "      quickchartButtonEl.classList.remove('colab-df-spinner');\n",
              "      quickchartButtonEl.classList.add('colab-df-quickchart-complete');\n",
              "    }\n",
              "    (() => {\n",
              "      let quickchartButtonEl =\n",
              "        document.querySelector('#df-d12bab9d-d617-4a4e-84fc-44fbf5e5c5be button');\n",
              "      quickchartButtonEl.style.display =\n",
              "        google.colab.kernel.accessAllowed ? 'block' : 'none';\n",
              "    })();\n",
              "  </script>\n",
              "</div>\n",
              "\n",
              "  <div id=\"id_5e20dc0f-3787-461e-b92b-dbb8fb59f592\">\n",
              "    <style>\n",
              "      .colab-df-generate {\n",
              "        background-color: #E8F0FE;\n",
              "        border: none;\n",
              "        border-radius: 50%;\n",
              "        cursor: pointer;\n",
              "        display: none;\n",
              "        fill: #1967D2;\n",
              "        height: 32px;\n",
              "        padding: 0 0 0 0;\n",
              "        width: 32px;\n",
              "      }\n",
              "\n",
              "      .colab-df-generate:hover {\n",
              "        background-color: #E2EBFA;\n",
              "        box-shadow: 0px 1px 2px rgba(60, 64, 67, 0.3), 0px 1px 3px 1px rgba(60, 64, 67, 0.15);\n",
              "        fill: #174EA6;\n",
              "      }\n",
              "\n",
              "      [theme=dark] .colab-df-generate {\n",
              "        background-color: #3B4455;\n",
              "        fill: #D2E3FC;\n",
              "      }\n",
              "\n",
              "      [theme=dark] .colab-df-generate:hover {\n",
              "        background-color: #434B5C;\n",
              "        box-shadow: 0px 1px 3px 1px rgba(0, 0, 0, 0.15);\n",
              "        filter: drop-shadow(0px 1px 2px rgba(0, 0, 0, 0.3));\n",
              "        fill: #FFFFFF;\n",
              "      }\n",
              "    </style>\n",
              "    <button class=\"colab-df-generate\" onclick=\"generateWithVariable('df_m')\"\n",
              "            title=\"Generate code using this dataframe.\"\n",
              "            style=\"display:none;\">\n",
              "\n",
              "  <svg xmlns=\"http://www.w3.org/2000/svg\" height=\"24px\"viewBox=\"0 0 24 24\"\n",
              "       width=\"24px\">\n",
              "    <path d=\"M7,19H8.4L18.45,9,17,7.55,7,17.6ZM5,21V16.75L18.45,3.32a2,2,0,0,1,2.83,0l1.4,1.43a1.91,1.91,0,0,1,.58,1.4,1.91,1.91,0,0,1-.58,1.4L9.25,21ZM18.45,9,17,7.55Zm-12,3A5.31,5.31,0,0,0,4.9,8.1,5.31,5.31,0,0,0,1,6.5,5.31,5.31,0,0,0,4.9,4.9,5.31,5.31,0,0,0,6.5,1,5.31,5.31,0,0,0,8.1,4.9,5.31,5.31,0,0,0,12,6.5,5.46,5.46,0,0,0,6.5,12Z\"/>\n",
              "  </svg>\n",
              "    </button>\n",
              "    <script>\n",
              "      (() => {\n",
              "      const buttonEl =\n",
              "        document.querySelector('#id_5e20dc0f-3787-461e-b92b-dbb8fb59f592 button.colab-df-generate');\n",
              "      buttonEl.style.display =\n",
              "        google.colab.kernel.accessAllowed ? 'block' : 'none';\n",
              "\n",
              "      buttonEl.onclick = () => {\n",
              "        google.colab.notebook.generateWithVariable('df_m');\n",
              "      }\n",
              "      })();\n",
              "    </script>\n",
              "  </div>\n",
              "\n",
              "    </div>\n",
              "  </div>\n"
            ],
            "application/vnd.google.colaboratory.intrinsic+json": {
              "type": "dataframe",
              "variable_name": "df_m",
              "summary": "{\n  \"name\": \"df_m\",\n  \"rows\": 5,\n  \"fields\": [\n    {\n      \"column\": \"Height\",\n      \"properties\": {\n        \"dtype\": \"number\",\n        \"std\": 12,\n        \"min\": 142,\n        \"max\": 172,\n        \"num_unique_values\": 5,\n        \"samples\": [\n          142,\n          172,\n          168\n        ],\n        \"semantic_type\": \"\",\n        \"description\": \"\"\n      }\n    },\n    {\n      \"column\": \"Gender\",\n      \"properties\": {\n        \"dtype\": \"category\",\n        \"num_unique_values\": 1,\n        \"samples\": [\n          \"M\"\n        ],\n        \"semantic_type\": \"\",\n        \"description\": \"\"\n      }\n    },\n    {\n      \"column\": \"Interval\",\n      \"properties\": {\n        \"dtype\": \"category\",\n        \"num_unique_values\": 4,\n        \"samples\": [\n          \"[141, 144)\"\n        ],\n        \"semantic_type\": \"\",\n        \"description\": \"\"\n      }\n    }\n  ]\n}"
            }
          },
          "metadata": {},
          "execution_count": 9
        }
      ]
    },
    {
      "cell_type": "code",
      "source": [
        "from scipy.stats import shapiro\n",
        "\n",
        "shapiro(df_m.Height)"
      ],
      "metadata": {
        "colab": {
          "base_uri": "https://localhost:8080/"
        },
        "id": "JCZf-DYOwHMD",
        "outputId": "c34b54a1-13e1-448f-e3dd-2243eda85fb6"
      },
      "execution_count": null,
      "outputs": [
        {
          "output_type": "execute_result",
          "data": {
            "text/plain": [
              "ShapiroResult(statistic=0.8303580179339545, pvalue=0.1399828285182474)"
            ]
          },
          "metadata": {},
          "execution_count": 10
        }
      ]
    },
    {
      "cell_type": "code",
      "source": [
        "shapiro(df_f.Height)"
      ],
      "metadata": {
        "colab": {
          "base_uri": "https://localhost:8080/"
        },
        "id": "2IVCcd8xtfAZ",
        "outputId": "53502fb0-de18-4dab-cb34-ac21e5012c04"
      },
      "execution_count": null,
      "outputs": [
        {
          "output_type": "execute_result",
          "data": {
            "text/plain": [
              "ShapiroResult(statistic=0.8917580998470671, pvalue=0.32750219284174353)"
            ]
          },
          "metadata": {},
          "execution_count": 11
        }
      ]
    },
    {
      "cell_type": "code",
      "source": [
        "import pandas as pd\n",
        "import scipy.stats as stats\n",
        "import numpy as np\n",
        "import matplotlib.pyplot as plt\n",
        "\n",
        "\n",
        "data_f = result_df[['Interval', 'F']]\n",
        "\n",
        "df_f = pd.DataFrame(data_f)\n",
        "\n",
        "\n",
        "# Побудова графіка інтервального розподілу частот\n",
        "plt.figure(figsize=(8, 6))\n",
        "plt.bar(range(len(df_f)), df_f['F'], tick_label=df_f['Interval'].astype(str))\n",
        "plt.title('Інтервальний розподіл частот')\n",
        "plt.xlabel('Інтервали')\n",
        "plt.ylabel('Частоти')\n",
        "plt.grid(axis='y', linestyle='--', alpha=0.7)\n",
        "\n",
        "# Побудова Q-Q графіка\n",
        "plt.figure(figsize=(8, 6))\n",
        "stats.probplot(df_f['F'], dist=\"norm\", plot=plt)\n",
        "plt.title('Q-Q графік')\n",
        "plt.show()\n",
        "\n",
        "# Перевірка нормальності тестом Шапіро-Уілка\n",
        "stat, p_value = stats.shapiro(df_f['F'])\n",
        "print(f'Shapiro-Wilk test statistic: {stat}, p-value: {p_value}')\n",
        "\n",
        "# Визначення рівня значущості\n",
        "alpha = 0.05\n",
        "\n",
        "# Перевірка гіпотези про нормальність\n",
        "if p_value > alpha:\n",
        "    print(\"Розподіл є нормальним (не відхиляється від нормального)\")\n",
        "else:\n",
        "    print(\"Розподіл не є нормальним (відхиляється від нормального)\")\n"
      ],
      "metadata": {
        "colab": {
          "base_uri": "https://localhost:8080/",
          "height": 1000
        },
        "id": "zJRYFTi0HvXG",
        "outputId": "17c3971f-b005-484f-db40-f29a0010d81d"
      },
      "execution_count": null,
      "outputs": [
        {
          "output_type": "display_data",
          "data": {
            "text/plain": [
              "<Figure size 800x600 with 1 Axes>"
            ],
            "image/png": "[encoded data removed]"
          },
          "metadata": {}
        },
        {
          "output_type": "display_data",
          "data": {
            "text/plain": [
              "<Figure size 800x600 with 1 Axes>"
            ],
            "image/png": "[encoded data removed]"
          },
          "metadata": {}
        },
        {
          "output_type": "stream",
          "name": "stdout",
          "text": [
            "Shapiro-Wilk test statistic: 0.6457043942109832, p-value: 0.00016726928369613765\n",
            "Розподіл не є нормальним (відхиляється від нормального)\n"
          ]
        }
      ]
    },
    {
      "cell_type": "code",
      "source": [
        "import pandas as pd\n",
        "import scipy.stats as stats\n",
        "import numpy as np\n",
        "import matplotlib.pyplot as plt\n",
        "\n",
        "df_m = result_df[['Interval', 'M']]\n",
        "\n",
        "\n",
        "# Побудова графіка інтервального розподілу частот\n",
        "plt.figure(figsize=(8, 6))\n",
        "plt.bar(range(len(df_m)), df_m['M'], tick_label=df_m['Interval'].astype(str))\n",
        "plt.title('Інтервальний розподіл частот')\n",
        "plt.xlabel('Interval')\n",
        "plt.ylabel('M')\n",
        "plt.grid(axis='y', linestyle='--', alpha=0.7)\n",
        "\n",
        "# Побудова Q-Q графіка\n",
        "plt.figure(figsize=(8, 6))\n",
        "stats.probplot(df_m['M'], dist=\"norm\", plot=plt)\n",
        "plt.title('Q-Q графік')\n",
        "plt.show()\n",
        "\n",
        "# Перевірка нормальності тестом Шапіро-Уілка\n",
        "stat, p_value = stats.shapiro(df_m['M'])\n",
        "print(f'Shapiro-Wilk test statistic: {stat}, p-value: {p_value}')\n",
        "\n",
        "# Визначення рівня значущості\n",
        "alpha = 0.05\n",
        "\n",
        "# Перевірка гіпотези про нормальність\n",
        "if p_value > alpha:\n",
        "    print(\"Розподіл є нормальним (не відхиляється від нормального)\")\n",
        "else:\n",
        "    print(\"Розподіл не є нормальним (відхиляється від нормального)\")\n"
      ],
      "metadata": {
        "colab": {
          "base_uri": "https://localhost:8080/",
          "height": 1000
        },
        "id": "OpOQOrcMHzd4",
        "outputId": "a0359b29-e3ba-460c-ea46-d6a07b5660ce"
      },
      "execution_count": null,
      "outputs": [
        {
          "output_type": "display_data",
          "data": {
            "text/plain": [
              "<Figure size 800x600 with 1 Axes>"
            ],
            "image/png": "[encoded data removed]"
          },
          "metadata": {}
        },
        {
          "output_type": "display_data",
          "data": {
            "text/plain": [
              "<Figure size 800x600 with 1 Axes>"
            ],
            "image/png": "[encoded data removed]"
          },
          "metadata": {}
        },
        {
          "output_type": "stream",
          "name": "stdout",
          "text": [
            "Shapiro-Wilk test statistic: 0.6495802171200629, p-value: 0.00018163357699965552\n",
            "Розподіл не є нормальним (відхиляється від нормального)\n"
          ]
        }
      ]
    },
    {
      "cell_type": "markdown",
      "source": [
        "Тепер давайте обчислимо середнє значення та дисперсію для двох класів.\n",
        "\n",
        "Для класу Female:"
      ],
      "metadata": {
        "id": "xyH2yDSLH9__"
      }
    },
    {
      "cell_type": "code",
      "source": [
        "df[df['Gender']=='F']['Height'].std()"
      ],
      "metadata": {
        "colab": {
          "base_uri": "https://localhost:8080/"
        },
        "id": "zmEA09dHIAuu",
        "outputId": "702badee-6ac9-4cd3-bd8f-d5c2e6462bc3"
      },
      "execution_count": null,
      "outputs": [
        {
          "output_type": "execute_result",
          "data": {
            "text/plain": [
              "11.827933040053955"
            ]
          },
          "metadata": {},
          "execution_count": 13
        }
      ]
    },
    {
      "cell_type": "markdown",
      "source": [
        "Для класу Male:"
      ],
      "metadata": {
        "id": "s_kW9uf8IEFr"
      }
    },
    {
      "cell_type": "code",
      "source": [
        "df[df['Gender']=='M']['Height'].std()"
      ],
      "metadata": {
        "colab": {
          "base_uri": "https://localhost:8080/"
        },
        "id": "TBAv2Am0IDbS",
        "outputId": "57d0f18f-7a85-4940-f80f-30ba996135c4"
      },
      "execution_count": null,
      "outputs": [
        {
          "output_type": "execute_result",
          "data": {
            "text/plain": [
              "12.132600710482482"
            ]
          },
          "metadata": {},
          "execution_count": 14
        }
      ]
    },
    {
      "cell_type": "markdown",
      "source": [
        "Дисперсія змінної, що розглядається, майже однакова в обох класах, отже, виконується друге припущення LDA."
      ],
      "metadata": {
        "id": "DFRuHYYrIKp1"
      }
    },
    {
      "cell_type": "markdown",
      "source": [
        "##Застосування теореми Баєса в LDA"
      ],
      "metadata": {
        "id": "7f_QgHhVITF3"
      }
    },
    {
      "cell_type": "markdown",
      "source": [
        "LDA значною мірою покладається на теорему Баєса, наведемо її у вигляді:\n",
        "\n",
        "$\\displaystyle P(A|B) = \\frac{P(B|A) \\cdot P(A)}{P(B|A)\\cdot P(A) + P(B|\\neg A)\\cdot P(\\neg A)}, $\n",
        "\n",
        "де\n",
        "\n",
        "- $ P(A) $ — апріорна ймовірність події $A$.\n",
        "- $ P(\\neg A)$ — апріорна ймовірність не настання події $A$.\n",
        "- $ P(B|A) $ — умовна ймовірність події $B$ за умови виконання $A$.\n",
        "- $ P(B|\\neg A) $ — умовна ймовірність події $B$ за умови не виконання $A$.\n",
        "\n",
        "Для наданої нам таблиці даних потрібно обчислити ймовірність того, що значення нової висоти потрапляє у два класи статі. Це означає, що нам доведеться розрахувати:\n",
        "\n",
        "$P (стать = чоловік | зріст = 152)$ і $P (стать = жінка | зріст = 152)$, а потім порівняти, яке значення ймовірності вище.\n",
        "\n",
        "Отже, маємо\n",
        "\n",
        "$\\displaystyle P(\\text{gender=male}|\\text{height=152}) = \\frac{P(\\text{height=152}|\\text{gender=male}) \\cdot P(\\text{gender=male})}{P(\\text{height=152}|\\text{gender=male}) \\cdot P(\\text{gender=male})+P(\\text{height=152}|\\text{gender=female}) \\cdot P(\\text{gender=female})} $\n",
        "\n",
        "та\n",
        "\n",
        "$\\displaystyle P(\\text{gender=female}|\\text{height=152}) = \\frac{P(\\text{height=152}|\\text{gender=female}) \\cdot P(\\text{gender=female})}{P(\\text{height=152}|\\text{gender=female}) \\cdot P(\\text{gender=female})+P(\\text{height=152}|\\text{gender=male}) \\cdot P(\\text{gender=male})} $\n",
        "\n",
        "\n",
        "$P(gender=male)$ можна легко обчислити як кількість елементів у чоловічому класі в наборі навчальних даних, поділену на загальну кількість елементів:"
      ],
      "metadata": {
        "id": "2IOM3sDNIXCQ"
      }
    },
    {
      "cell_type": "code",
      "source": [
        "P_m = len(df[df['Gender']=='M'])/len(df)\n",
        "P_m"
      ],
      "metadata": {
        "colab": {
          "base_uri": "https://localhost:8080/"
        },
        "id": "RDQVVdZbIX5T",
        "outputId": "fe7d9feb-b61a-41c8-f5bc-4d3e54426953"
      },
      "execution_count": null,
      "outputs": [
        {
          "output_type": "execute_result",
          "data": {
            "text/plain": [
              "0.45454545454545453"
            ]
          },
          "metadata": {},
          "execution_count": 15
        }
      ]
    },
    {
      "cell_type": "markdown",
      "source": [
        "Так само отримаємо $P(gender=female)$ як кількість елементів у жіночому класі в наборі навчальних даних, поділену на загальну кількість елементів:\n"
      ],
      "metadata": {
        "id": "mGPUMLhGIeKS"
      }
    },
    {
      "cell_type": "code",
      "source": [
        "P_f = len(df[df['Gender']=='F'])/len(df)\n",
        "P_f"
      ],
      "metadata": {
        "colab": {
          "base_uri": "https://localhost:8080/"
        },
        "id": "vuneBWyRIgpt",
        "outputId": "ff8c778b-233e-420e-a7ad-e35ff361be21"
      },
      "execution_count": null,
      "outputs": [
        {
          "output_type": "execute_result",
          "data": {
            "text/plain": [
              "0.5454545454545454"
            ]
          },
          "metadata": {},
          "execution_count": 16
        }
      ]
    },
    {
      "cell_type": "markdown",
      "source": [
        "Після цього необхідно обчислити умовні ймовірності, однак, це буде зроблено за допомогою нормального розподілу. Саме тут нам знадобиться перше припущення LDA.\n",
        "\n",
        "Отже, для випадкової змінної відомо, що вона підкоряється нормальному закону розподілу:\n",
        "\n",
        "$ f(x|\\mu, \\sigma^2) = \\frac{1}{\\sqrt{2\\pi\\sigma^2}} e^{-\\frac{(x-\\mu)^2}{2\\sigma^2}} $\n",
        "\n",
        "Раніше ми обчислили середнє та дисперсію для кожного класу. Підставимо їх та отримаємо значення розподілу в точці, що нас цікавить.\n"
      ],
      "metadata": {
        "id": "0uFYSPriIj3H"
      }
    },
    {
      "cell_type": "code",
      "source": [
        "import math\n",
        "std_m = df[df['Gender']=='M']['Height'].std()\n",
        "sigma_m = std_m**2\n",
        "mu_m = df[df['Gender']=='M']['Height'].mean()\n",
        "\n",
        "std_f = df[df['Gender']=='F']['Height'].std()\n",
        "sigma_f = std_m**2\n",
        "mu_f = df[df['Gender']=='F']['Height'].mean()\n",
        "\n",
        "\n",
        "def norm_distr(x, mu, sigma):\n",
        "    return 1 / (sigma * math.sqrt(2 * math.pi)) * math.exp(-0.5 * ((x - mu) / sigma) ** 2)\n",
        "\n",
        "P_h_m = norm_distr(170, mu_m, sigma_m)\n",
        "P_h_m"
      ],
      "metadata": {
        "colab": {
          "base_uri": "https://localhost:8080/"
        },
        "id": "GRWjgQozImmb",
        "outputId": "5a8371e9-4c91-4a31-a373-c4939069ec2b"
      },
      "execution_count": null,
      "outputs": [
        {
          "output_type": "execute_result",
          "data": {
            "text/plain": [
              "0.00270640345614594"
            ]
          },
          "metadata": {},
          "execution_count": 17
        }
      ]
    },
    {
      "cell_type": "markdown",
      "source": [
        "Це і є значення умовної ймовірності $P(\\text{height=152}|\\text{gender=male}).$"
      ],
      "metadata": {
        "id": "O5VWWg-uIqrK"
      }
    },
    {
      "cell_type": "markdown",
      "source": [
        "Female Class"
      ],
      "metadata": {
        "id": "5j8E_dX5IuKG"
      }
    },
    {
      "cell_type": "code",
      "source": [
        "P_h_f = norm_distr(170, mu_f, sigma_f)\n",
        "P_h_f"
      ],
      "metadata": {
        "colab": {
          "base_uri": "https://localhost:8080/"
        },
        "id": "TMHf_f7OIwXo",
        "outputId": "799800bc-1ef7-4e8c-cdc5-d1eb3119f46e"
      },
      "execution_count": null,
      "outputs": [
        {
          "output_type": "execute_result",
          "data": {
            "text/plain": [
              "0.0026787291379703673"
            ]
          },
          "metadata": {},
          "execution_count": 18
        }
      ]
    },
    {
      "cell_type": "markdown",
      "source": [
        "Це і є значення умовної ймовірності $P(\\text{height=152}|\\text{gender=female}).$"
      ],
      "metadata": {
        "id": "sdahSDSBIzUO"
      }
    },
    {
      "cell_type": "markdown",
      "source": [
        "Далі підставляємо отримані значення у формулу.\n",
        "\n",
        "$\\displaystyle P(\\text{gender=male}|\\text{height=152}) = \\frac{P(\\text{height=152}|\\text{gender=male}) \\cdot P(\\text{gender=male})}{P(\\text{height=152}|\\text{gender=male}) \\cdot P(\\text{gender=male})+P(\\text{height=152}|\\text{gender=female}) \\cdot P(\\text{gender=female})}$"
      ],
      "metadata": {
        "id": "v2G0pDJsI2Sk"
      }
    },
    {
      "cell_type": "code",
      "source": [
        "P_m_h = P_h_m*P_m/(P_h_m*P_m+P_h_f*P_f)\n",
        "P_m_h"
      ],
      "metadata": {
        "colab": {
          "base_uri": "https://localhost:8080/"
        },
        "id": "bcnTpLQKI5OX",
        "outputId": "b5c630de-19e4-4dfc-9852-64dc66511994"
      },
      "execution_count": null,
      "outputs": [
        {
          "output_type": "execute_result",
          "data": {
            "text/plain": [
              "0.45709492129111035"
            ]
          },
          "metadata": {},
          "execution_count": 19
        }
      ]
    },
    {
      "cell_type": "markdown",
      "source": [
        "та\n",
        "\n",
        "$\\displaystyle P(\\text{gender=female}|\\text{height=152}) = \\frac{P(\\text{height=152}|\\text{gender=female}) \\cdot P(\\text{gender=female})}{P(\\text{height=152}|\\text{gender=female}) \\cdot P(\\text{gender=female})+P(\\text{height=152}|\\text{gender=male}) \\cdot P(\\text{gender=male})} $"
      ],
      "metadata": {
        "id": "loVzl7n6I53o"
      }
    },
    {
      "cell_type": "code",
      "source": [
        "P_f_h = P_h_f*P_f/(P_h_f*P_f+P_h_m*P_m)\n",
        "P_f_h"
      ],
      "metadata": {
        "colab": {
          "base_uri": "https://localhost:8080/"
        },
        "id": "XGKsHwvuI_1_",
        "outputId": "0ee1b108-e824-4f90-aa17-a17efa9a3f56"
      },
      "execution_count": null,
      "outputs": [
        {
          "output_type": "execute_result",
          "data": {
            "text/plain": [
              "0.5429050787088897"
            ]
          },
          "metadata": {},
          "execution_count": 20
        }
      ]
    },
    {
      "cell_type": "markdown",
      "source": [
        "Тепер, оскільки очевидно, що $P(стать = чоловік| зріст = 152)$ менший, ніж $P(стать = жінка |зріст = 152)$, ми можемо класифікувати зріст $152$ см до жіночого класу."
      ],
      "metadata": {
        "id": "QNcaQZewI-88"
      }
    },
    {
      "cell_type": "markdown",
      "source": [
        "##Використання бібліотеки Sklearn"
      ],
      "metadata": {
        "id": "aHWz3lvZJORt"
      }
    },
    {
      "cell_type": "code",
      "source": [
        "from sklearn.discriminant_analysis import LinearDiscriminantAnalysis\n",
        "\n",
        "height = np.array(df['Height'])\n",
        "gender = np.array(df['Gender'])\n",
        "\n",
        "lda = LinearDiscriminantAnalysis()\n",
        "lda.fit(height.reshape(-1,1), gender)\n",
        "x = np.array([170])\n",
        "\n",
        "lda.predict_proba(x.reshape(-1,1))"
      ],
      "metadata": {
        "colab": {
          "base_uri": "https://localhost:8080/"
        },
        "id": "cKN8ThQLJQfM",
        "outputId": "9fd0bcf2-e04d-4064-97f2-801beffc8a2d"
      },
      "execution_count": null,
      "outputs": [
        {
          "output_type": "execute_result",
          "data": {
            "text/plain": [
              "array([[0.20205745, 0.79794255]])"
            ]
          },
          "metadata": {},
          "execution_count": 21
        }
      ]
    },
    {
      "cell_type": "code",
      "source": [
        "gender"
      ],
      "metadata": {
        "colab": {
          "base_uri": "https://localhost:8080/"
        },
        "id": "K8jegOEFOATy",
        "outputId": "2181ab7b-f845-4b9d-cfed-02dbabe73ccd"
      },
      "execution_count": null,
      "outputs": [
        {
          "output_type": "execute_result",
          "data": {
            "text/plain": [
              "array(['F', 'F', 'F', 'M', 'F', 'M', 'M', 'F', 'F', 'M', 'M'],\n",
              "      dtype=object)"
            ]
          },
          "metadata": {},
          "execution_count": 22
        }
      ]
    },
    {
      "cell_type": "code",
      "source": [
        "lda.predict(x.reshape(-1,1))"
      ],
      "metadata": {
        "colab": {
          "base_uri": "https://localhost:8080/"
        },
        "id": "vvR9fis9JYIf",
        "outputId": "28591494-cf8d-4abf-e082-84898d8e655c"
      },
      "execution_count": null,
      "outputs": [
        {
          "output_type": "execute_result",
          "data": {
            "text/plain": [
              "array(['M'], dtype='<U1')"
            ]
          },
          "metadata": {},
          "execution_count": 23
        }
      ]
    },
    {
      "cell_type": "markdown",
      "source": [
        "#Квадратичний дискримінантний аналіз (QDA)\n"
      ],
      "metadata": {
        "id": "8IBYcd36JdgL"
      }
    },
    {
      "cell_type": "markdown",
      "source": [
        "Квадратичний дискримінантний аналіз є статистичним методом, який використовується для класифікації та розділення груп. Основні властивості алгоритму QDA включають:\n",
        "\n",
        "1. ***Моделювання розподілу класів***\n",
        "  Кожен клас моделюється гаусівським розподілом. Класичний QDA припускає, що кожен клас має гаусівський розподіл.\n",
        "2. ***Використання коваріаційних матриць***\n",
        "  Кожен клас може мати свою коваріаційну матрицю. У загальному випадку QDA використовує коваріаційні матриці для кожного класу.\n",
        "3. ***Множення на зворотню коваріаційну матрицю***\n",
        "  У формулах QDA зазвичай використовується зворотна (інверсія) коваріаційна матриця. Це важливо для обчислень дискримінантних функцій.\n",
        "4. *Припущення про однаковість коваріаційних матриць*\n",
        "  У спрощеному випадку QDA може припускати, що всі класи мають однакову коваріаційну матрицю. Це полегшує обчислення та може бути корисним при обмеженій кількості даних.\n",
        "5. ***Обчислення дискримінантних функцій***\n",
        "  Кожен клас має свою дискримінантну функцію, яка виражається через середні значення та коваріаційні матриці. Ці функції використовуються для класифікації нових зразків.\n",
        "6. ***Апріорні ймовірності***\n",
        "  QDA може враховувати апріорні ймовірності для кожного класу. Вони використовуються для обчислення апостеріорних ймовірностей.\n",
        "7. ***Вибір класу за допомогою дискримінантних функцій***\n",
        "  Класифікація нового зразка здійснюється на основі значень дискримінантних функцій. Зразок відноситься до класу, для якого значення дискримінантної функції максимальне.\n",
        "8. ***Ефективність при обмеженій кількості даних***\n",
        "  QDA може бути ефективним, коли кількість даних обмежена, інші методи, такі як логістична регресія, можуть вимагати більше даних для навчання.\n",
        "\n",
        "Загальна ідея QDA полягає в тому, щоб знайти границю прийняття рішення у просторі ознак, яка максимально відділяє класи.\n",
        "\n",
        "Як можна побачити з опису властивостей, суттєву роль в методі відіграє коваріаційна матриця. Розглянемо це поняття більш детально."
      ],
      "metadata": {
        "id": "-X7n-WWNfhuX"
      }
    },
    {
      "cell_type": "markdown",
      "source": [
        "##Коваріаційна матриця\n",
        "\n",
        "##Коваріаційна матриця\n",
        "\n",
        "**Коваріаційна матриця** — це матриця, яка містить коваріації між парами змінних у векторі випадкових величин. Вона дозволяє визначити ступінь лінійної залежності між різними змінними та міру їхнього взаємозв'язку.\n",
        "\n",
        "Для двох змінних $X$ та $Y$ коваріаційна матриця має вигляд:\n",
        "\n",
        "$ \\text{Cov}(X, Y) = \\begin{bmatrix} \\text{Var}(X) & \\text{Cov}(X, Y) \\\\ \\text{Cov}(Y, X) & \\text{Var}(Y) \\end{bmatrix} $\n",
        "\n",
        "де:\n",
        "- $\\text{Var}(X)$ — дисперсія $X$,\n",
        "- $\\text{Var}(Y)$ — дисперсія $Y$,\n",
        "- $\\text{Cov}(X, Y)$ — коваріація між $X$ та $Y$,\n",
        "- $\\text{Cov}(Y, X)$ — коваріація між $Y$ та $X$.\n",
        "\n",
        "\n",
        "$\\displaystyle\n",
        "\\text{Var}(X) = \\frac{1}{n-1} \\sum_{i=1}^{n} (x_i - \\mu_x)^2.\n",
        "$\n",
        "\n",
        "\n",
        "$\\displaystyle\n",
        "\\text{Cov}(X, Y) = \\frac{1}{n-1} \\sum_{i=1}^{n} (x_i - \\mu_x)(y_i - \\mu_y).\n",
        "$\n",
        "\n",
        "У формулах вище $\\mu_x$ і $\\mu_y$ — середні значення змінних $X$ та $Y$ відповідно.\n",
        "\n",
        "Слід звернути увагу на коефіцієнт $\\displaystyle \\frac{1}{n-1}$. Коли ми працюємо з реальними даними, ми часто не знаємо середнього значення сукупності. Ми знаємо лише вибіркове середнє значення. Тому ми повинні використовувати формулу з $n-1$. Коли ми маємо всю генеральну сукупність даних, можна використовувати $n$.\n",
        "\n",
        "\n",
        "**Приклад.**\n",
        "Нехай маємо три змінні: $X$, $Y$ і $Z$ — та набір даних:\n",
        "\n",
        "$ X = [x_1, x_2, ..., x_n]=[1, 2, 3, 4, 5] $\n",
        "\n",
        "$ Y = [y_1, y_2, ..., y_n] = [2, 4, 6, 8, 11] $\n",
        "\n",
        "$ Z = [z_1, z_2, ..., z_n] = [-1, -2, -3, -4, -5] $\n",
        "\n",
        "Для розрахунку коваріаційної матриці спочатку потрібно розрахувати дисперсії та коваріації.\n",
        "\n",
        "Після розрахунку всіх необхідних значень коваріаційна матриця матиме вигляд:\n",
        "\n",
        "$ \\text{Covariance Matrix} = \\begin{bmatrix} \\text{Var}(X) & \\text{Cov}(X, Y) & \\text{Cov}(X, Z) \\\\ \\text{Cov}(Y, X) & \\text{Var}(Y) & \\text{Cov}(Y, Z) \\\\ \\text{Cov}(Z, X) & \\text{Cov}(Z, Y) & \\text{Var}(Z) \\end{bmatrix} $\n",
        "\n",
        "Використаємо Numpy для розрахунків.\n",
        "\n",
        "\n",
        "\n"
      ],
      "metadata": {
        "id": "l4VwS6EgNRI0"
      }
    },
    {
      "cell_type": "code",
      "source": [
        "# Приклад. Нехай маємо три змінні X, Y, та Z, і маємо набір даних:\n",
        "\n",
        "x = [1, 2, 3, 4, 5]\n",
        "y = [2, 4, 6, 8, 11]\n",
        "z = [-1, -2, -3, -4, -5]\n"
      ],
      "metadata": {
        "id": "ZIDwpQuoJi6k"
      },
      "execution_count": null,
      "outputs": []
    },
    {
      "cell_type": "code",
      "source": [
        "# Обчислимо дисперсії кожного ряду даних\n",
        "var_x = np.var(x)*len(x)/(len(x)-1)\n",
        "var_x"
      ],
      "metadata": {
        "colab": {
          "base_uri": "https://localhost:8080/"
        },
        "id": "pyOYbTzqNrQk",
        "outputId": "daa63447-2311-495d-9dd5-38b4c9c8f040"
      },
      "execution_count": null,
      "outputs": [
        {
          "output_type": "execute_result",
          "data": {
            "text/plain": [
              "2.5"
            ]
          },
          "metadata": {},
          "execution_count": 39
        }
      ]
    },
    {
      "cell_type": "code",
      "source": [
        "var_y = np.var(y)*len(y)/(len(y)-1)\n",
        "var_y"
      ],
      "metadata": {
        "colab": {
          "base_uri": "https://localhost:8080/"
        },
        "id": "CmxyYJIaNtqb",
        "outputId": "29832437-f0c9-4d96-d211-06b0a76230e9"
      },
      "execution_count": null,
      "outputs": [
        {
          "output_type": "execute_result",
          "data": {
            "text/plain": [
              "12.2"
            ]
          },
          "metadata": {},
          "execution_count": 40
        }
      ]
    },
    {
      "cell_type": "code",
      "source": [
        "var_z = np.var(z)*len(z)/(len(z)-1)\n",
        "var_z"
      ],
      "metadata": {
        "colab": {
          "base_uri": "https://localhost:8080/"
        },
        "id": "OVvE3z6wNv-a",
        "outputId": "a5ba2885-2c09-43b2-fbd1-f17944455260"
      },
      "execution_count": null,
      "outputs": [
        {
          "output_type": "execute_result",
          "data": {
            "text/plain": [
              "2.5"
            ]
          },
          "metadata": {},
          "execution_count": 27
        }
      ]
    },
    {
      "cell_type": "code",
      "source": [
        "X = np.stack((x, y, z), axis=0)\n",
        "print(X)\n",
        "print('Матриця коваріації\\n',np.cov(X))"
      ],
      "metadata": {
        "colab": {
          "base_uri": "https://localhost:8080/"
        },
        "id": "qWjyhdF1N0h6",
        "outputId": "406f38b7-556b-4917-e847-9b2b41bdc73c"
      },
      "execution_count": null,
      "outputs": [
        {
          "output_type": "stream",
          "name": "stdout",
          "text": [
            "[[ 1  2  3  4  5]\n",
            " [ 2  4  6  8 11]\n",
            " [-1 -2 -3 -4 -5]]\n",
            "Матриця коваріації\n",
            " [[ 2.5  5.5 -2.5]\n",
            " [ 5.5 12.2 -5.5]\n",
            " [-2.5 -5.5  2.5]]\n"
          ]
        }
      ]
    },
    {
      "cell_type": "markdown",
      "source": [
        "##Класифікатор на основі QDA\n",
        "\n",
        "Розглянемо попередню задачу про прогнозування статі людини за зростом, що ми розглядали в методі LDA. Але пам'ятаємо, що оскільки метод QDA не вимагає однакових дисперсій ознак за класами, ця вимога не є обов'язковою.\n",
        "\n",
        "\n",
        "\n"
      ],
      "metadata": {
        "id": "9NmyXUVLPWD6"
      }
    },
    {
      "cell_type": "code",
      "source": [
        "data = {'Height': [140, 145, 135, 169, 165, 142, 168, 141, 159, 160, 172],\n",
        "        'Gender': ['F', 'F', 'F', 'M', 'F', 'M', 'M', 'F', 'F', 'M', 'M']}\n",
        "\n",
        "df = pd.DataFrame(data)\n",
        "print(df)\n"
      ],
      "metadata": {
        "colab": {
          "base_uri": "https://localhost:8080/"
        },
        "id": "RkQXHRNbPYZo",
        "outputId": "a19e4c57-79f2-43af-a2d1-9c1204888bc7"
      },
      "execution_count": null,
      "outputs": [
        {
          "output_type": "stream",
          "name": "stdout",
          "text": [
            "    Height Gender\n",
            "0      140      F\n",
            "1      145      F\n",
            "2      135      F\n",
            "3      169      M\n",
            "4      165      F\n",
            "5      142      M\n",
            "6      168      M\n",
            "7      141      F\n",
            "8      159      F\n",
            "9      160      M\n",
            "10     172      M\n"
          ]
        }
      ]
    },
    {
      "cell_type": "markdown",
      "source": [
        "Отже, оскільки в нас два класи: male та female — дискримінантна формула для кожного класу набуває вигляду:\n",
        "\n",
        "$ g_m(x) = -\\frac{1}{2} (x_m - \\mu_m)^T \\Sigma_i^{-1} (x_m - \\mu_m)  - \\frac{1}{2} \\ln|\\Sigma_m| + \\ln P(C_m), $\n",
        "$ g_f(x) = -\\frac{1}{2} (x_f - \\mu_f)^T \\Sigma_i^{-1} (x_f - \\mu_f)  - \\frac{1}{2} \\ln|\\Sigma_f| + \\ln P(C_f).$\n"
      ],
      "metadata": {
        "id": "2n34BJ3SPcyj"
      }
    },
    {
      "cell_type": "markdown",
      "source": [
        "Знайдемо значення ознаки в кожному класі."
      ],
      "metadata": {
        "id": "43hHg0nlPghz"
      }
    },
    {
      "cell_type": "code",
      "source": [
        "from numpy.linalg import inv\n",
        "x_m = np.array(df[df['Gender']=='M']['Height'])\n",
        "x_m"
      ],
      "metadata": {
        "colab": {
          "base_uri": "https://localhost:8080/"
        },
        "id": "6BS5_D2jPkBw",
        "outputId": "6fb3587b-3a8f-48fc-ac6d-4d34f13a469b"
      },
      "execution_count": null,
      "outputs": [
        {
          "output_type": "execute_result",
          "data": {
            "text/plain": [
              "array([169, 142, 168, 160, 172])"
            ]
          },
          "metadata": {},
          "execution_count": 47
        }
      ]
    },
    {
      "cell_type": "code",
      "source": [
        "x_f = np.array(df[df['Gender']=='F']['Height'])\n",
        "x_f"
      ],
      "metadata": {
        "colab": {
          "base_uri": "https://localhost:8080/"
        },
        "id": "pMKw3jWPPmMP",
        "outputId": "c71524b4-ede3-425b-840d-feeca2d52ef8"
      },
      "execution_count": null,
      "outputs": [
        {
          "output_type": "execute_result",
          "data": {
            "text/plain": [
              "array([140, 145, 135, 165, 141, 159])"
            ]
          },
          "metadata": {},
          "execution_count": 48
        }
      ]
    },
    {
      "cell_type": "code",
      "source": [
        "np.cov(x_m)"
      ],
      "metadata": {
        "id": "YAiyVILBjdUD",
        "colab": {
          "base_uri": "https://localhost:8080/"
        },
        "outputId": "499aa789-1a52-4d4c-dfb9-787de4a03621"
      },
      "execution_count": null,
      "outputs": [
        {
          "output_type": "execute_result",
          "data": {
            "text/plain": [
              "array(147.2)"
            ]
          },
          "metadata": {},
          "execution_count": 49
        }
      ]
    },
    {
      "cell_type": "markdown",
      "source": [
        "Знайдемо значення коваріації, яка в цьому випадку дорівнює дисперсії даних за класами."
      ],
      "metadata": {
        "id": "9OLxwXkSPpIZ"
      }
    },
    {
      "cell_type": "code",
      "source": [
        "x_m_cov = np.var(x_m)*len(x_m)/(len(x_m)-1)\n",
        "x_m_cov"
      ],
      "metadata": {
        "colab": {
          "base_uri": "https://localhost:8080/"
        },
        "id": "K68F0FtNPrGm",
        "outputId": "0eead791-b485-4a89-c609-f2487d777c84"
      },
      "execution_count": null,
      "outputs": [
        {
          "output_type": "execute_result",
          "data": {
            "text/plain": [
              "147.20000000000002"
            ]
          },
          "metadata": {},
          "execution_count": 50
        }
      ]
    },
    {
      "cell_type": "code",
      "source": [
        "x_f_cov = np.var(x_f)*len(x_f)/(len(x_f)-1)\n",
        "x_f_cov"
      ],
      "metadata": {
        "colab": {
          "base_uri": "https://localhost:8080/"
        },
        "id": "HnkGd_4_PtTf",
        "outputId": "4c5e1e8a-fa13-4e93-88b8-bbbccb082fd9"
      },
      "execution_count": null,
      "outputs": [
        {
          "output_type": "execute_result",
          "data": {
            "text/plain": [
              "139.9"
            ]
          },
          "metadata": {},
          "execution_count": 51
        }
      ]
    },
    {
      "cell_type": "markdown",
      "source": [
        "Знайдемо обернені значення коваріації для кожного класу"
      ],
      "metadata": {
        "id": "MxlBCi3IPwUe"
      }
    },
    {
      "cell_type": "code",
      "source": [
        "inv_cov_m = inv(np.array([[x_m_cov]]))\n",
        "inv_cov_m"
      ],
      "metadata": {
        "colab": {
          "base_uri": "https://localhost:8080/"
        },
        "id": "2KmwTJkiP0F6",
        "outputId": "7079d60a-eabc-4865-ade1-545ab6837cb5"
      },
      "execution_count": null,
      "outputs": [
        {
          "output_type": "execute_result",
          "data": {
            "text/plain": [
              "array([[0.00679348]])"
            ]
          },
          "metadata": {},
          "execution_count": 52
        }
      ]
    },
    {
      "cell_type": "code",
      "source": [
        "inv_cov_f = inv(np.array([[x_f_cov]]))\n",
        "inv_cov_f"
      ],
      "metadata": {
        "colab": {
          "base_uri": "https://localhost:8080/"
        },
        "id": "Hvq50zr5P1_g",
        "outputId": "0bca6185-0dbb-4019-c1a6-addb8aae2242"
      },
      "execution_count": null,
      "outputs": [
        {
          "output_type": "execute_result",
          "data": {
            "text/plain": [
              "array([[0.00714796]])"
            ]
          },
          "metadata": {},
          "execution_count": 53
        }
      ]
    },
    {
      "cell_type": "markdown",
      "source": [
        "Та апріорні ймовірності кожного класу."
      ],
      "metadata": {
        "id": "zEvkbcbQP5J0"
      }
    },
    {
      "cell_type": "code",
      "source": [
        "P_m = len(df[df['Gender']=='M'])/len(df)\n",
        "P_m"
      ],
      "metadata": {
        "colab": {
          "base_uri": "https://localhost:8080/"
        },
        "id": "lIQiR42ZP5nz",
        "outputId": "5edfd1f6-c532-41e8-b377-ac1b2c22a73a"
      },
      "execution_count": null,
      "outputs": [
        {
          "output_type": "execute_result",
          "data": {
            "text/plain": [
              "0.45454545454545453"
            ]
          },
          "metadata": {},
          "execution_count": 54
        }
      ]
    },
    {
      "cell_type": "code",
      "source": [
        "P_f = len(df[df['Gender']=='F'])/len(df)\n",
        "P_f"
      ],
      "metadata": {
        "colab": {
          "base_uri": "https://localhost:8080/"
        },
        "id": "TMDi4qPaP90T",
        "outputId": "da75d833-a78c-4b29-9c96-e4e22575aa5a"
      },
      "execution_count": null,
      "outputs": [
        {
          "output_type": "execute_result",
          "data": {
            "text/plain": [
              "0.5454545454545454"
            ]
          },
          "metadata": {},
          "execution_count": 55
        }
      ]
    },
    {
      "cell_type": "markdown",
      "source": [
        "Визначимо дискримінантну функцію для випадку однієї ознаки в наборі даних."
      ],
      "metadata": {
        "id": "ANIi-9l9QCGf"
      }
    },
    {
      "cell_type": "code",
      "source": [
        "def g(x, X_mean, X_cov, X_inv_cov, X_prob):\n",
        "    g_i = -1/2*(x - X_mean)*(x - X_mean)*X_inv_cov - 1/2*np.log(X_cov)+np.log(X_prob)\n",
        "    return g_i"
      ],
      "metadata": {
        "id": "BBIppXwDQEig"
      },
      "execution_count": null,
      "outputs": []
    },
    {
      "cell_type": "markdown",
      "source": [
        "Значення дискримінантної функції для класу чоловіків."
      ],
      "metadata": {
        "id": "B8CHk-fPQHEv"
      }
    },
    {
      "cell_type": "code",
      "source": [
        "g_m = g(170, np.mean(x_m), x_m_cov, inv_cov_m, P_m)\n",
        "g_m"
      ],
      "metadata": {
        "colab": {
          "base_uri": "https://localhost:8080/"
        },
        "id": "A5kSGuCMQJFN",
        "outputId": "1e367b4c-27d8-4174-cbf5-fca83ceb7278"
      },
      "execution_count": null,
      "outputs": [
        {
          "output_type": "execute_result",
          "data": {
            "text/plain": [
              "array([[-3.49101107]])"
            ]
          },
          "metadata": {},
          "execution_count": 61
        }
      ]
    },
    {
      "cell_type": "markdown",
      "source": [
        "Значення дискримінантної функції для класу жінок."
      ],
      "metadata": {
        "id": "PTM70LvGQLgh"
      }
    },
    {
      "cell_type": "code",
      "source": [
        "g_f = g(170, np.mean(x_f), x_f_cov, inv_cov_f, P_f)\n",
        "g_f"
      ],
      "metadata": {
        "colab": {
          "base_uri": "https://localhost:8080/"
        },
        "id": "e0p19HVYQNbj",
        "outputId": "983c1986-3b8a-499d-8908-ddba75cc15c6"
      },
      "execution_count": null,
      "outputs": [
        {
          "output_type": "execute_result",
          "data": {
            "text/plain": [
              "array([[-4.88592784]])"
            ]
          },
          "metadata": {},
          "execution_count": 62
        }
      ]
    },
    {
      "cell_type": "markdown",
      "source": [
        "Сформуємо вектор значень дискримінантної функції."
      ],
      "metadata": {
        "id": "DhKJzV-4QPzB"
      }
    },
    {
      "cell_type": "code",
      "source": [
        "values = np.array(list([g_m[0], g_f[0]])).transpose()\n",
        "values"
      ],
      "metadata": {
        "colab": {
          "base_uri": "https://localhost:8080/"
        },
        "id": "XZk7y3KlQRzf",
        "outputId": "9673f3cd-ddbe-43d9-b47a-3c13506e7e71"
      },
      "execution_count": null,
      "outputs": [
        {
          "output_type": "execute_result",
          "data": {
            "text/plain": [
              "array([[-3.49101107, -4.88592784]])"
            ]
          },
          "metadata": {},
          "execution_count": 63
        }
      ]
    },
    {
      "cell_type": "markdown",
      "source": [
        "Обчислимо вектор імовірності приналежності до двох класів."
      ],
      "metadata": {
        "id": "KnxsmaVPQT9N"
      }
    },
    {
      "cell_type": "code",
      "source": [
        "likelihood = np.exp(values - values.max(axis=1)[:, np.newaxis])\n",
        "res = likelihood / likelihood.sum(axis=1)[:, np.newaxis]\n",
        "res"
      ],
      "metadata": {
        "colab": {
          "base_uri": "https://localhost:8080/"
        },
        "id": "GCF7stn2QXS5",
        "outputId": "09eb7057-ca77-4256-ec90-152ca54dcb08"
      },
      "execution_count": null,
      "outputs": [
        {
          "output_type": "execute_result",
          "data": {
            "text/plain": [
              "array([[0.80137602, 0.19862398]])"
            ]
          },
          "metadata": {},
          "execution_count": 64
        }
      ]
    },
    {
      "cell_type": "markdown",
      "source": [
        "##Використання бібліотеки Sklearn"
      ],
      "metadata": {
        "id": "4NkRihT-Qast"
      }
    },
    {
      "cell_type": "code",
      "source": [
        "from sklearn.discriminant_analysis import QuadraticDiscriminantAnalysis\n",
        "\n",
        "height = np.array(df['Height'])\n",
        "gender = np.array(df['Gender'])\n",
        "\n",
        "qda = QuadraticDiscriminantAnalysis()\n",
        "qda.fit(height.reshape(-1,1), gender)\n",
        "x = np.array([170])\n",
        "\n",
        "print('Значення дискримінантної функції\\n', qda._decision_function(x.reshape(-1,1)))\n",
        "\n",
        "print('Значення ймовірностей класів\\n', qda.predict_proba(x.reshape(-1,1)))"
      ],
      "metadata": {
        "colab": {
          "base_uri": "https://localhost:8080/"
        },
        "id": "ztNY3jo_Qc_2",
        "outputId": "3e027251-8ed8-49fd-b305-b27459fb85b0"
      },
      "execution_count": null,
      "outputs": [
        {
          "output_type": "stream",
          "name": "stdout",
          "text": [
            "Значення дискримінантної функції\n",
            " [[-4.88592784 -3.49101107]]\n",
            "Значення ймовірностей класів\n",
            " [[0.19862398 0.80137602]]\n"
          ]
        }
      ]
    },
    {
      "cell_type": "code",
      "source": [
        "qda.predict(x.reshape(-1,1))"
      ],
      "metadata": {
        "id": "_O2ysbNYYSvi",
        "outputId": "5167226c-9f41-4e82-d30f-12d6dd4960e8",
        "colab": {
          "base_uri": "https://localhost:8080/"
        }
      },
      "execution_count": null,
      "outputs": [
        {
          "output_type": "execute_result",
          "data": {
            "text/plain": [
              "array(['M'], dtype=object)"
            ]
          },
          "metadata": {},
          "execution_count": 68
        }
      ]
    },
    {
      "cell_type": "markdown",
      "source": [
        "Можна побачити, що значення дискримінантної функції та значення ймовірностей класів збігаються в розрахунках за допомогою Numpy та Sklearn."
      ],
      "metadata": {
        "id": "Li0lKrhyQiIA"
      }
    },
    {
      "cell_type": "markdown",
      "source": [
        "Коли використовувати лінійний дискримінантний аналіз (LDA):\n",
        "\n",
        "1. Однорідність коваріаційних матриць\n",
        "\n",
        "  Якщо ви впевнені, що коваріаційні матриці для всіх класів приблизно однакові (однорідність дисперсії), то LDA може бути ефективнішим та менше схильним до перенавчання.\n",
        "\n",
        "2. Обмежена кількість зразків\n",
        "\n",
        "  У випадку обмеженої кількості тренувальних зразків LDA може бути відмінним вибором, оскільки він менше схильний до перенавчання, ніж QDA.\n",
        "\n",
        "3. Ідеальність припущень\n",
        "\n",
        "  Якщо припущення LDA (однорідність коваріаційних матриць та нормальний розподіл) відповідають структурі даних, алгоритм може працювати ефективно та точно.\n",
        "\n",
        "\n",
        "Коли використовувати квадратичний дискримінантний аналіз (QDA)\n",
        "\n",
        "1. Різноманітність коваріаційних матриць\n",
        "\n",
        "  Коли коваріаційні матриці для різних класів відрізняються значно, QDA може бути більш гнучким вибором, оскільки він дозволяє різні коваріаційні матриці.\n",
        "\n",
        "2. Нормальність не обов'язкова\n",
        "\n",
        "  QDA менше чутливий до нормального розподілу даних, тому він може бути корисним у випадках, коли дані не ідеально нормально розподілені.\n",
        "\n",
        "3. Велика кількість ознак\n",
        "\n",
        "  Коли кількість ознак велика порівняно з кількістю зразків, КДА може дозволити адаптацію до більш складних структур даних.\n",
        "\n",
        "\n",
        "Загальні рекомендації\n",
        "\n",
        "*  Якщо ви не впевнені в припущеннях про коваріаційні матриці та розподіл даних, розгляньте застосування обох методів та порівняйте їх ефективність на ваших даних.\n",
        "* Важливо провести попередній аналіз даних та визначити, як добре ваши дані відповідають припущенням обраного методу перед його використанням в реальному випадку."
      ],
      "metadata": {
        "id": "cvemlLwz6LgH"
      }
    },
    {
      "cell_type": "markdown",
      "source": [
        "# Додаткові матеріали\n",
        "\n",
        "1. По виведенню LDA/QDA: https://xavierbourretsicotte.github.io/LDA_QDA.html\n",
        "https://maelfabien.github.io/machinelearning/LDA/#\n",
        "2. Тести на нормальний розподіл: https://machinelearningmastery.com/a-gentle-introduction-to-normality-tests-in-python/\n",
        "3. Про CDF функцію: https://machinelearningmastery.com/continuous-probability-distributions-for-machine-learning/\n",
        "4. По розподілах: https://machinelearningmastery.com/statistical-data-distributions/\n",
        "5. Класний ресурс по теорії ймовірності: https://online.stat.psu.edu/stat414/section/1\n",
        "6. Linear Discriminant Analysis in Machine Learning:  https://www.geeksforgeeks.org/ml-linear-discriminant-analysis/"
      ],
      "metadata": {
        "id": "PcS4T72N-hR4"
      }
    }
  ],
  "metadata": {
    "colab": {
      "provenance": []
    },
    "kernelspec": {
      "display_name": "Python 3",
      "name": "python3"
    },
    "language_info": {
      "name": "python"
    }
  },
  "nbformat": 4,
  "nbformat_minor": 0
}